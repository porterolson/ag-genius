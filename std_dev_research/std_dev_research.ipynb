{
 "cells": [
  {
   "cell_type": "markdown",
   "metadata": {},
   "source": [
    "### Import"
   ]
  },
  {
   "cell_type": "code",
   "execution_count": 23,
   "metadata": {},
   "outputs": [
    {
     "data": {
      "text/html": [
       "\n",
       "            <style>\n",
       "                .geemap-dark {\n",
       "                    --jp-widgets-color: white;\n",
       "                    --jp-widgets-label-color: white;\n",
       "                    --jp-ui-font-color1: white;\n",
       "                    --jp-layout-color2: #454545;\n",
       "                    background-color: #383838;\n",
       "                }\n",
       "\n",
       "                .geemap-dark .jupyter-button {\n",
       "                    --jp-layout-color3: #383838;\n",
       "                }\n",
       "\n",
       "                .geemap-colab {\n",
       "                    background-color: var(--colab-primary-surface-color, white);\n",
       "                }\n",
       "\n",
       "                .geemap-colab .jupyter-button {\n",
       "                    --jp-layout-color3: var(--colab-primary-surface-color, white);\n",
       "                }\n",
       "            </style>\n",
       "            "
      ],
      "text/plain": [
       "<IPython.core.display.HTML object>"
      ]
     },
     "metadata": {},
     "output_type": "display_data"
    }
   ],
   "source": [
    "import pandas as pd\n",
    "import polars as pl\n",
    "import numpy as np\n",
    "import matplotlib.pyplot as plt\n",
    "import stackstac\n",
    "import xarray as xr\n",
    "import datetime\n",
    "import geopandas as gpd\n",
    "\n",
    "import tensorflow as tf\n",
    "import cv2\n",
    "# import glob\n",
    "# import os\n",
    "\n",
    "import tensorflow as tf\n",
    "from keras import layers, models"
   ]
  },
  {
   "cell_type": "code",
   "execution_count": 24,
   "metadata": {},
   "outputs": [
    {
     "data": {
      "text/html": [
       "\n",
       "            <style>\n",
       "                .geemap-dark {\n",
       "                    --jp-widgets-color: white;\n",
       "                    --jp-widgets-label-color: white;\n",
       "                    --jp-ui-font-color1: white;\n",
       "                    --jp-layout-color2: #454545;\n",
       "                    background-color: #383838;\n",
       "                }\n",
       "\n",
       "                .geemap-dark .jupyter-button {\n",
       "                    --jp-layout-color3: #383838;\n",
       "                }\n",
       "\n",
       "                .geemap-colab {\n",
       "                    background-color: var(--colab-primary-surface-color, white);\n",
       "                }\n",
       "\n",
       "                .geemap-colab .jupyter-button {\n",
       "                    --jp-layout-color3: var(--colab-primary-surface-color, white);\n",
       "                }\n",
       "            </style>\n",
       "            "
      ],
      "text/plain": [
       "<IPython.core.display.HTML object>"
      ]
     },
     "metadata": {},
     "output_type": "display_data"
    }
   ],
   "source": [
    "\n",
    "import geemap\n",
    "import ee\n",
    "ee.Authenticate()\n",
    "ee.Initialize(project='static-potion-450322-u2') # this is the project for Ag Genius for porter.olson11@gmail.com\n"
   ]
  },
  {
   "cell_type": "markdown",
   "metadata": {},
   "source": [
    "### Std Dev Research"
   ]
  },
  {
   "cell_type": "markdown",
   "metadata": {},
   "source": [
    "- Look at std dev across counties and across crop type\n",
    "- See if we can predict yield by using std dev\n",
    "- See if we can predict std dev using computer vision"
   ]
  },
  {
   "cell_type": "markdown",
   "metadata": {},
   "source": [
    "#### Clean winter wheat data"
   ]
  },
  {
   "cell_type": "code",
   "execution_count": 25,
   "metadata": {},
   "outputs": [
    {
     "data": {
      "text/html": [
       "\n",
       "            <style>\n",
       "                .geemap-dark {\n",
       "                    --jp-widgets-color: white;\n",
       "                    --jp-widgets-label-color: white;\n",
       "                    --jp-ui-font-color1: white;\n",
       "                    --jp-layout-color2: #454545;\n",
       "                    background-color: #383838;\n",
       "                }\n",
       "\n",
       "                .geemap-dark .jupyter-button {\n",
       "                    --jp-layout-color3: #383838;\n",
       "                }\n",
       "\n",
       "                .geemap-colab {\n",
       "                    background-color: var(--colab-primary-surface-color, white);\n",
       "                }\n",
       "\n",
       "                .geemap-colab .jupyter-button {\n",
       "                    --jp-layout-color3: var(--colab-primary-surface-color, white);\n",
       "                }\n",
       "            </style>\n",
       "            "
      ],
      "text/plain": [
       "<IPython.core.display.HTML object>"
      ]
     },
     "metadata": {},
     "output_type": "display_data"
    }
   ],
   "source": [
    "natl=pl.read_csv(r'C:\\Users\\porter77\\OneDrive - Brigham Young University\\Huron\\winter_wheat_natl.csv')\n",
    "natl=natl.select(['Year','State','State ANSI','County ANSI','Value','CV (%)'])\n",
    "\n",
    "natl = natl.with_columns(\n",
    "    (\n",
    "        (pl.col('State ANSI').cast(pl.Utf8).str.zfill(2)) +\n",
    "        (pl.col('County ANSI').cast(pl.Utf8).str.zfill(3))\n",
    "    ).alias('fips')\n",
    ")\n",
    "\n",
    "\n",
    "natl=natl.rename({'Value':'yield','CV (%)':'CV'})\n",
    "\n",
    "natl=natl.with_columns(\n",
    "    ((pl.col('CV')*pl.col('yield'))/pl.lit(100))\n",
    "    .alias('std_dev')\n",
    ")"
   ]
  },
  {
   "cell_type": "code",
   "execution_count": 26,
   "metadata": {},
   "outputs": [
    {
     "data": {
      "text/html": [
       "\n",
       "            <style>\n",
       "                .geemap-dark {\n",
       "                    --jp-widgets-color: white;\n",
       "                    --jp-widgets-label-color: white;\n",
       "                    --jp-ui-font-color1: white;\n",
       "                    --jp-layout-color2: #454545;\n",
       "                    background-color: #383838;\n",
       "                }\n",
       "\n",
       "                .geemap-dark .jupyter-button {\n",
       "                    --jp-layout-color3: #383838;\n",
       "                }\n",
       "\n",
       "                .geemap-colab {\n",
       "                    background-color: var(--colab-primary-surface-color, white);\n",
       "                }\n",
       "\n",
       "                .geemap-colab .jupyter-button {\n",
       "                    --jp-layout-color3: var(--colab-primary-surface-color, white);\n",
       "                }\n",
       "            </style>\n",
       "            "
      ],
      "text/plain": [
       "<IPython.core.display.HTML object>"
      ]
     },
     "metadata": {},
     "output_type": "display_data"
    },
    {
     "data": {
      "text/html": [
       "<div><style>\n",
       ".dataframe > thead > tr,\n",
       ".dataframe > tbody > tr {\n",
       "  text-align: right;\n",
       "  white-space: pre-wrap;\n",
       "}\n",
       "</style>\n",
       "<small>shape: (3_492, 8)</small><table border=\"1\" class=\"dataframe\"><thead><tr><th>Year</th><th>State</th><th>State ANSI</th><th>County ANSI</th><th>yield</th><th>CV</th><th>fips</th><th>std_dev</th></tr><tr><td>i64</td><td>str</td><td>i64</td><td>i64</td><td>f64</td><td>f64</td><td>str</td><td>f64</td></tr></thead><tbody><tr><td>2024</td><td>&quot;ILLINOIS&quot;</td><td>17</td><td>115</td><td>93.5</td><td>4.2</td><td>&quot;17115&quot;</td><td>3.927</td></tr><tr><td>2024</td><td>&quot;ILLINOIS&quot;</td><td>17</td><td>125</td><td>91.2</td><td>7.8</td><td>&quot;17125&quot;</td><td>7.1136</td></tr><tr><td>2024</td><td>&quot;ILLINOIS&quot;</td><td>17</td><td>129</td><td>91.9</td><td>1.8</td><td>&quot;17129&quot;</td><td>1.6542</td></tr><tr><td>2024</td><td>&quot;ILLINOIS&quot;</td><td>17</td><td>143</td><td>96.6</td><td>8.6</td><td>&quot;17143&quot;</td><td>8.3076</td></tr><tr><td>2024</td><td>&quot;ILLINOIS&quot;</td><td>17</td><td>203</td><td>82.6</td><td>7.4</td><td>&quot;17203&quot;</td><td>6.1124</td></tr><tr><td>&hellip;</td><td>&hellip;</td><td>&hellip;</td><td>&hellip;</td><td>&hellip;</td><td>&hellip;</td><td>&hellip;</td><td>&hellip;</td></tr><tr><td>2020</td><td>&quot;WISCONSIN&quot;</td><td>55</td><td>43</td><td>72.8</td><td>6.0</td><td>&quot;55043&quot;</td><td>4.368</td></tr><tr><td>2020</td><td>&quot;WISCONSIN&quot;</td><td>55</td><td>49</td><td>69.5</td><td>9.3</td><td>&quot;55049&quot;</td><td>6.4635</td></tr><tr><td>2020</td><td>&quot;WISCONSIN&quot;</td><td>55</td><td>103</td><td>54.8</td><td>4.2</td><td>&quot;55103&quot;</td><td>2.3016</td></tr><tr><td>2020</td><td>&quot;WISCONSIN&quot;</td><td>55</td><td>111</td><td>60.5</td><td>10.8</td><td>&quot;55111&quot;</td><td>6.534</td></tr><tr><td>2020</td><td>&quot;WISCONSIN&quot;</td><td>55</td><td>81</td><td>54.4</td><td>10.0</td><td>&quot;55081&quot;</td><td>5.44</td></tr></tbody></table></div>"
      ],
      "text/plain": [
       "shape: (3_492, 8)\n",
       "┌──────┬───────────┬────────────┬─────────────┬───────┬──────┬───────┬─────────┐\n",
       "│ Year ┆ State     ┆ State ANSI ┆ County ANSI ┆ yield ┆ CV   ┆ fips  ┆ std_dev │\n",
       "│ ---  ┆ ---       ┆ ---        ┆ ---         ┆ ---   ┆ ---  ┆ ---   ┆ ---     │\n",
       "│ i64  ┆ str       ┆ i64        ┆ i64         ┆ f64   ┆ f64  ┆ str   ┆ f64     │\n",
       "╞══════╪═══════════╪════════════╪═════════════╪═══════╪══════╪═══════╪═════════╡\n",
       "│ 2024 ┆ ILLINOIS  ┆ 17         ┆ 115         ┆ 93.5  ┆ 4.2  ┆ 17115 ┆ 3.927   │\n",
       "│ 2024 ┆ ILLINOIS  ┆ 17         ┆ 125         ┆ 91.2  ┆ 7.8  ┆ 17125 ┆ 7.1136  │\n",
       "│ 2024 ┆ ILLINOIS  ┆ 17         ┆ 129         ┆ 91.9  ┆ 1.8  ┆ 17129 ┆ 1.6542  │\n",
       "│ 2024 ┆ ILLINOIS  ┆ 17         ┆ 143         ┆ 96.6  ┆ 8.6  ┆ 17143 ┆ 8.3076  │\n",
       "│ 2024 ┆ ILLINOIS  ┆ 17         ┆ 203         ┆ 82.6  ┆ 7.4  ┆ 17203 ┆ 6.1124  │\n",
       "│ …    ┆ …         ┆ …          ┆ …           ┆ …     ┆ …    ┆ …     ┆ …       │\n",
       "│ 2020 ┆ WISCONSIN ┆ 55         ┆ 43          ┆ 72.8  ┆ 6.0  ┆ 55043 ┆ 4.368   │\n",
       "│ 2020 ┆ WISCONSIN ┆ 55         ┆ 49          ┆ 69.5  ┆ 9.3  ┆ 55049 ┆ 6.4635  │\n",
       "│ 2020 ┆ WISCONSIN ┆ 55         ┆ 103         ┆ 54.8  ┆ 4.2  ┆ 55103 ┆ 2.3016  │\n",
       "│ 2020 ┆ WISCONSIN ┆ 55         ┆ 111         ┆ 60.5  ┆ 10.8 ┆ 55111 ┆ 6.534   │\n",
       "│ 2020 ┆ WISCONSIN ┆ 55         ┆ 81          ┆ 54.4  ┆ 10.0 ┆ 55081 ┆ 5.44    │\n",
       "└──────┴───────────┴────────────┴─────────────┴───────┴──────┴───────┴─────────┘"
      ]
     },
     "execution_count": 26,
     "metadata": {},
     "output_type": "execute_result"
    }
   ],
   "source": [
    "#filter to only valid std dev obs\n",
    "natl=natl.filter(\n",
    "    pl.col('std_dev').is_not_null()\n",
    ")\n",
    "natl"
   ]
  },
  {
   "cell_type": "markdown",
   "metadata": {},
   "source": [
    "#### Regressions"
   ]
  },
  {
   "cell_type": "markdown",
   "metadata": {},
   "source": [
    "**yield regressed on std dev**"
   ]
  },
  {
   "cell_type": "code",
   "execution_count": 27,
   "metadata": {},
   "outputs": [
    {
     "data": {
      "text/html": [
       "\n",
       "            <style>\n",
       "                .geemap-dark {\n",
       "                    --jp-widgets-color: white;\n",
       "                    --jp-widgets-label-color: white;\n",
       "                    --jp-ui-font-color1: white;\n",
       "                    --jp-layout-color2: #454545;\n",
       "                    background-color: #383838;\n",
       "                }\n",
       "\n",
       "                .geemap-dark .jupyter-button {\n",
       "                    --jp-layout-color3: #383838;\n",
       "                }\n",
       "\n",
       "                .geemap-colab {\n",
       "                    background-color: var(--colab-primary-surface-color, white);\n",
       "                }\n",
       "\n",
       "                .geemap-colab .jupyter-button {\n",
       "                    --jp-layout-color3: var(--colab-primary-surface-color, white);\n",
       "                }\n",
       "            </style>\n",
       "            "
      ],
      "text/plain": [
       "<IPython.core.display.HTML object>"
      ]
     },
     "metadata": {},
     "output_type": "display_data"
    },
    {
     "name": "stdout",
     "output_type": "stream",
     "text": [
      "                            OLS Regression Results                            \n",
      "==============================================================================\n",
      "Dep. Variable:                  yield   R-squared:                       0.063\n",
      "Model:                            OLS   Adj. R-squared:                  0.063\n",
      "Method:                 Least Squares   F-statistic:                     114.2\n",
      "Date:                Tue, 10 Jun 2025   Prob (F-statistic):           1.66e-25\n",
      "Time:                        12:37:38   Log-Likelihood:                -15654.\n",
      "No. Observations:                3492   AIC:                         3.131e+04\n",
      "Df Residuals:                    3490   BIC:                         3.132e+04\n",
      "Df Model:                           1                                         \n",
      "Covariance Type:              cluster                                         \n",
      "==============================================================================\n",
      "                 coef    std err          z      P>|z|      [0.025      0.975]\n",
      "------------------------------------------------------------------------------\n",
      "const         52.6488      1.100     47.868      0.000      50.493      54.804\n",
      "std_dev        2.3268      0.218     10.687      0.000       1.900       2.754\n",
      "==============================================================================\n",
      "Omnibus:                       18.100   Durbin-Watson:                   0.519\n",
      "Prob(Omnibus):                  0.000   Jarque-Bera (JB):               18.343\n",
      "Skew:                           0.175   Prob(JB):                     0.000104\n",
      "Kurtosis:                       2.942   Cond. No.                         9.49\n",
      "==============================================================================\n",
      "\n",
      "Notes:\n",
      "[1] Standard Errors are robust to cluster correlation (cluster)\n"
     ]
    }
   ],
   "source": [
    "import statsmodels.api as sm\n",
    "\n",
    "y = natl['yield'].to_pandas()\n",
    "X = natl['std_dev'].to_pandas()\n",
    "X = sm.add_constant(X)\n",
    "\n",
    "# Grouping variable: e.g., 'fips' or 'county'\n",
    "groups = natl['fips'].to_pandas()\n",
    "\n",
    "model = sm.OLS(y, X)\n",
    "results = model.fit(cov_type='cluster', cov_kwds={'groups': groups})\n",
    "\n",
    "print(results.summary())\n"
   ]
  },
  {
   "cell_type": "code",
   "execution_count": 28,
   "metadata": {},
   "outputs": [
    {
     "data": {
      "text/html": [
       "\n",
       "            <style>\n",
       "                .geemap-dark {\n",
       "                    --jp-widgets-color: white;\n",
       "                    --jp-widgets-label-color: white;\n",
       "                    --jp-ui-font-color1: white;\n",
       "                    --jp-layout-color2: #454545;\n",
       "                    background-color: #383838;\n",
       "                }\n",
       "\n",
       "                .geemap-dark .jupyter-button {\n",
       "                    --jp-layout-color3: #383838;\n",
       "                }\n",
       "\n",
       "                .geemap-colab {\n",
       "                    background-color: var(--colab-primary-surface-color, white);\n",
       "                }\n",
       "\n",
       "                .geemap-colab .jupyter-button {\n",
       "                    --jp-layout-color3: var(--colab-primary-surface-color, white);\n",
       "                }\n",
       "            </style>\n",
       "            "
      ],
      "text/plain": [
       "<IPython.core.display.HTML object>"
      ]
     },
     "metadata": {},
     "output_type": "display_data"
    },
    {
     "name": "stdout",
     "output_type": "stream",
     "text": [
      "                          PanelOLS Estimation Summary                           \n",
      "================================================================================\n",
      "Dep. Variable:                  yield   R-squared:                        0.0096\n",
      "Estimator:                   PanelOLS   R-squared (Between):              0.0716\n",
      "No. Observations:                3492   R-squared (Within):               0.0188\n",
      "Date:                Tue, Jun 10 2025   R-squared (Overall):              0.0676\n",
      "Time:                        12:37:38   Log-likelihood                 -1.22e+04\n",
      "Cov. Estimator:             Clustered                                           \n",
      "                                        F-statistic:                      22.467\n",
      "Entities:                        1177   P-value                           0.0000\n",
      "Avg Obs:                       2.9669   Distribution:                  F(1,2310)\n",
      "Min Obs:                       1.0000                                           \n",
      "Max Obs:                       5.0000   F-statistic (robust):             6.6079\n",
      "                                        P-value                           0.0102\n",
      "Time periods:                       5   Distribution:                  F(1,2310)\n",
      "Avg Obs:                       698.40                                           \n",
      "Min Obs:                       57.000                                           \n",
      "Max Obs:                       926.00                                           \n",
      "                                                                                \n",
      "                             Parameter Estimates                              \n",
      "==============================================================================\n",
      "            Parameter  Std. Err.     T-stat    P-value    Lower CI    Upper CI\n",
      "------------------------------------------------------------------------------\n",
      "std_dev        0.5708     0.2220     2.5706     0.0102      0.1354      1.0062\n",
      "==============================================================================\n",
      "\n",
      "F-test for Poolability: 12.189\n",
      "P-value: 0.0000\n",
      "Distribution: F(1180,2310)\n",
      "\n",
      "Included effects: Entity, Time\n"
     ]
    }
   ],
   "source": [
    "#time and year fixed effects regression\n",
    "\n",
    "\n",
    "from linearmodels.panel import PanelOLS\n",
    "\n",
    "df = natl.to_pandas()\n",
    "df['fips'] = df['fips'].astype(str)\n",
    "df = df.set_index(['fips', 'Year'])\n",
    "\n",
    "# Panel OLS with both county (Entity) and year (Time) fixed effects\n",
    "mod = PanelOLS.from_formula('yield ~ std_dev + EntityEffects + TimeEffects', data=df)\n",
    "res = mod.fit(cov_type='clustered', cluster_entity=True)\n",
    "\n",
    "print(res.summary)\n"
   ]
  },
  {
   "cell_type": "code",
   "execution_count": 29,
   "metadata": {},
   "outputs": [
    {
     "data": {
      "text/html": [
       "\n",
       "            <style>\n",
       "                .geemap-dark {\n",
       "                    --jp-widgets-color: white;\n",
       "                    --jp-widgets-label-color: white;\n",
       "                    --jp-ui-font-color1: white;\n",
       "                    --jp-layout-color2: #454545;\n",
       "                    background-color: #383838;\n",
       "                }\n",
       "\n",
       "                .geemap-dark .jupyter-button {\n",
       "                    --jp-layout-color3: #383838;\n",
       "                }\n",
       "\n",
       "                .geemap-colab {\n",
       "                    background-color: var(--colab-primary-surface-color, white);\n",
       "                }\n",
       "\n",
       "                .geemap-colab .jupyter-button {\n",
       "                    --jp-layout-color3: var(--colab-primary-surface-color, white);\n",
       "                }\n",
       "            </style>\n",
       "            "
      ],
      "text/plain": [
       "<IPython.core.display.HTML object>"
      ]
     },
     "metadata": {},
     "output_type": "display_data"
    },
    {
     "data": {
      "image/png": "[encoded data removed]",
      "text/plain": [
       "<Figure size 640x480 with 1 Axes>"
      ]
     },
     "metadata": {},
     "output_type": "display_data"
    }
   ],
   "source": [
    "import matplotlib.pyplot as plt\n",
    "\n",
    "X = natl['std_dev'].to_pandas()\n",
    "plt.scatter(X,y,color='red',s=10)\n",
    "plt.xlabel('Std Dev')\n",
    "plt.ylabel('Mean Yield (Reported Yield)')\n",
    "plt.title('Std Dev vs Yield (Mean)')\n",
    "plt.show()"
   ]
  },
  {
   "cell_type": "markdown",
   "metadata": {},
   "source": [
    "**predicted yield regressed on standard dev**"
   ]
  },
  {
   "cell_type": "code",
   "execution_count": 30,
   "metadata": {},
   "outputs": [
    {
     "data": {
      "text/html": [
       "\n",
       "            <style>\n",
       "                .geemap-dark {\n",
       "                    --jp-widgets-color: white;\n",
       "                    --jp-widgets-label-color: white;\n",
       "                    --jp-ui-font-color1: white;\n",
       "                    --jp-layout-color2: #454545;\n",
       "                    background-color: #383838;\n",
       "                }\n",
       "\n",
       "                .geemap-dark .jupyter-button {\n",
       "                    --jp-layout-color3: #383838;\n",
       "                }\n",
       "\n",
       "                .geemap-colab {\n",
       "                    background-color: var(--colab-primary-surface-color, white);\n",
       "                }\n",
       "\n",
       "                .geemap-colab .jupyter-button {\n",
       "                    --jp-layout-color3: var(--colab-primary-surface-color, white);\n",
       "                }\n",
       "            </style>\n",
       "            "
      ],
      "text/plain": [
       "<IPython.core.display.HTML object>"
      ]
     },
     "metadata": {},
     "output_type": "display_data"
    },
    {
     "data": {
      "text/html": [
       "<div><style>\n",
       ".dataframe > thead > tr,\n",
       ".dataframe > tbody > tr {\n",
       "  text-align: right;\n",
       "  white-space: pre-wrap;\n",
       "}\n",
       "</style>\n",
       "<small>shape: (990, 8)</small><table border=\"1\" class=\"dataframe\"><thead><tr><th></th><th>fips</th><th>Index</th><th>Year</th><th>yield</th><th>y_pred</th><th>abs_error</th><th>error</th></tr><tr><td>i64</td><td>str</td><td>i64</td><td>i64</td><td>f64</td><td>f64</td><td>f64</td><td>f64</td></tr></thead><tbody><tr><td>4</td><td>&quot;40093&quot;</td><td>0</td><td>2019</td><td>43.5</td><td>41.7765</td><td>1.7235</td><td>1.7235</td></tr><tr><td>32</td><td>&quot;30051&quot;</td><td>1</td><td>2019</td><td>39.0</td><td>40.287403</td><td>1.287403</td><td>-1.287403</td></tr><tr><td>78</td><td>&quot;17189&quot;</td><td>2</td><td>2019</td><td>69.4</td><td>65.68565</td><td>3.71435</td><td>3.71435</td></tr><tr><td>108</td><td>&quot;48139&quot;</td><td>3</td><td>2019</td><td>45.5</td><td>57.219875</td><td>11.719875</td><td>-11.719875</td></tr><tr><td>138</td><td>&quot;21213&quot;</td><td>4</td><td>2019</td><td>76.2</td><td>69.029015</td><td>7.170985</td><td>7.170985</td></tr><tr><td>&hellip;</td><td>&hellip;</td><td>&hellip;</td><td>&hellip;</td><td>&hellip;</td><td>&hellip;</td><td>&hellip;</td><td>&hellip;</td></tr><tr><td>6277</td><td>&quot;40129&quot;</td><td>195</td><td>2023</td><td>30.3</td><td>48.72704</td><td>18.42704</td><td>-18.42704</td></tr><tr><td>6305</td><td>&quot;16069&quot;</td><td>196</td><td>2023</td><td>78.0</td><td>80.07147</td><td>2.07147</td><td>-2.07147</td></tr><tr><td>6347</td><td>&quot;26063&quot;</td><td>197</td><td>2023</td><td>105.9</td><td>82.05374</td><td>23.84626</td><td>23.84626</td></tr><tr><td>6377</td><td>&quot;20021&quot;</td><td>198</td><td>2023</td><td>79.9</td><td>64.50295</td><td>15.39705</td><td>15.39705</td></tr><tr><td>6405</td><td>&quot;26037&quot;</td><td>199</td><td>2023</td><td>75.4</td><td>65.86763</td><td>9.53237</td><td>9.53237</td></tr></tbody></table></div>"
      ],
      "text/plain": [
       "shape: (990, 8)\n",
       "┌──────┬───────┬───────┬──────┬───────┬───────────┬───────────┬────────────┐\n",
       "│      ┆ fips  ┆ Index ┆ Year ┆ yield ┆ y_pred    ┆ abs_error ┆ error      │\n",
       "│ ---  ┆ ---   ┆ ---   ┆ ---  ┆ ---   ┆ ---       ┆ ---       ┆ ---        │\n",
       "│ i64  ┆ str   ┆ i64   ┆ i64  ┆ f64   ┆ f64       ┆ f64       ┆ f64        │\n",
       "╞══════╪═══════╪═══════╪══════╪═══════╪═══════════╪═══════════╪════════════╡\n",
       "│ 4    ┆ 40093 ┆ 0     ┆ 2019 ┆ 43.5  ┆ 41.7765   ┆ 1.7235    ┆ 1.7235     │\n",
       "│ 32   ┆ 30051 ┆ 1     ┆ 2019 ┆ 39.0  ┆ 40.287403 ┆ 1.287403  ┆ -1.287403  │\n",
       "│ 78   ┆ 17189 ┆ 2     ┆ 2019 ┆ 69.4  ┆ 65.68565  ┆ 3.71435   ┆ 3.71435    │\n",
       "│ 108  ┆ 48139 ┆ 3     ┆ 2019 ┆ 45.5  ┆ 57.219875 ┆ 11.719875 ┆ -11.719875 │\n",
       "│ 138  ┆ 21213 ┆ 4     ┆ 2019 ┆ 76.2  ┆ 69.029015 ┆ 7.170985  ┆ 7.170985   │\n",
       "│ …    ┆ …     ┆ …     ┆ …    ┆ …     ┆ …         ┆ …         ┆ …          │\n",
       "│ 6277 ┆ 40129 ┆ 195   ┆ 2023 ┆ 30.3  ┆ 48.72704  ┆ 18.42704  ┆ -18.42704  │\n",
       "│ 6305 ┆ 16069 ┆ 196   ┆ 2023 ┆ 78.0  ┆ 80.07147  ┆ 2.07147   ┆ -2.07147   │\n",
       "│ 6347 ┆ 26063 ┆ 197   ┆ 2023 ┆ 105.9 ┆ 82.05374  ┆ 23.84626  ┆ 23.84626   │\n",
       "│ 6377 ┆ 20021 ┆ 198   ┆ 2023 ┆ 79.9  ┆ 64.50295  ┆ 15.39705  ┆ 15.39705   │\n",
       "│ 6405 ┆ 26037 ┆ 199   ┆ 2023 ┆ 75.4  ┆ 65.86763  ┆ 9.53237   ┆ 9.53237    │\n",
       "└──────┴───────┴───────┴──────┴───────┴───────────┴───────────┴────────────┘"
      ]
     },
     "execution_count": 30,
     "metadata": {},
     "output_type": "execute_result"
    }
   ],
   "source": [
    "yields=pl.read_csv(r'C:\\Users\\porter77\\OneDrive - Brigham Young University\\Huron\\yield_prediction\\3dcnn_v4-2.csv')\n",
    "yields=yields.with_columns(\n",
    "    np.abs((pl.col('yield')-pl.col('y_pred')))\n",
    "    .alias('abs_error')\n",
    ")\n",
    "yields=yields.with_columns(\n",
    "    (pl.col('yield')-pl.col('y_pred'))\n",
    "    .alias('error')\n",
    ")\n",
    "yields=yields.with_columns(\n",
    "    (pl.col('fips').cast(pl.Utf8).str.zfill(5)).alias('fips')\n",
    ")\n",
    "yields"
   ]
  },
  {
   "cell_type": "code",
   "execution_count": 31,
   "metadata": {},
   "outputs": [
    {
     "data": {
      "text/html": [
       "\n",
       "            <style>\n",
       "                .geemap-dark {\n",
       "                    --jp-widgets-color: white;\n",
       "                    --jp-widgets-label-color: white;\n",
       "                    --jp-ui-font-color1: white;\n",
       "                    --jp-layout-color2: #454545;\n",
       "                    background-color: #383838;\n",
       "                }\n",
       "\n",
       "                .geemap-dark .jupyter-button {\n",
       "                    --jp-layout-color3: #383838;\n",
       "                }\n",
       "\n",
       "                .geemap-colab {\n",
       "                    background-color: var(--colab-primary-surface-color, white);\n",
       "                }\n",
       "\n",
       "                .geemap-colab .jupyter-button {\n",
       "                    --jp-layout-color3: var(--colab-primary-surface-color, white);\n",
       "                }\n",
       "            </style>\n",
       "            "
      ],
      "text/plain": [
       "<IPython.core.display.HTML object>"
      ]
     },
     "metadata": {},
     "output_type": "display_data"
    },
    {
     "data": {
      "text/html": [
       "<div><style>\n",
       ".dataframe > thead > tr,\n",
       ".dataframe > tbody > tr {\n",
       "  text-align: right;\n",
       "  white-space: pre-wrap;\n",
       "}\n",
       "</style>\n",
       "<small>shape: (790, 13)</small><table border=\"1\" class=\"dataframe\"><thead><tr><th></th><th>fips</th><th>Index</th><th>Year</th><th>yield</th><th>y_pred</th><th>abs_error</th><th>error</th><th>State</th><th>State ANSI</th><th>County ANSI</th><th>CV</th><th>std_dev</th></tr><tr><td>i64</td><td>str</td><td>i64</td><td>i64</td><td>f64</td><td>f64</td><td>f64</td><td>f64</td><td>str</td><td>i64</td><td>i64</td><td>f64</td><td>f64</td></tr></thead><tbody><tr><td>1220</td><td>&quot;08039&quot;</td><td>40</td><td>2023</td><td>43.7</td><td>38.561337</td><td>5.138663</td><td>5.138663</td><td>&quot;COLORADO&quot;</td><td>8</td><td>39</td><td>5.0</td><td>2.185</td></tr><tr><td>914</td><td>&quot;08061&quot;</td><td>30</td><td>2023</td><td>28.6</td><td>31.953047</td><td>3.353047</td><td>-3.353047</td><td>&quot;COLORADO&quot;</td><td>8</td><td>61</td><td>7.2</td><td>2.0592</td></tr><tr><td>5315</td><td>&quot;08063&quot;</td><td>166</td><td>2023</td><td>49.9</td><td>51.37901</td><td>1.47901</td><td>-1.47901</td><td>&quot;COLORADO&quot;</td><td>8</td><td>63</td><td>5.1</td><td>2.5449</td></tr><tr><td>1729</td><td>&quot;08073&quot;</td><td>56</td><td>2023</td><td>41.3</td><td>42.422306</td><td>1.122306</td><td>-1.122306</td><td>&quot;COLORADO&quot;</td><td>8</td><td>73</td><td>15.3</td><td>6.3189</td></tr><tr><td>4470</td><td>&quot;08075&quot;</td><td>142</td><td>2023</td><td>43.9</td><td>38.576805</td><td>5.323195</td><td>5.323195</td><td>&quot;COLORADO&quot;</td><td>8</td><td>75</td><td>7.9</td><td>3.4681</td></tr><tr><td>&hellip;</td><td>&hellip;</td><td>&hellip;</td><td>&hellip;</td><td>&hellip;</td><td>&hellip;</td><td>&hellip;</td><td>&hellip;</td><td>&hellip;</td><td>&hellip;</td><td>&hellip;</td><td>&hellip;</td><td>&hellip;</td></tr><tr><td>2372</td><td>&quot;53071&quot;</td><td>76</td><td>2020</td><td>86.2</td><td>82.52843</td><td>3.67157</td><td>3.67157</td><td>&quot;WASHINGTON&quot;</td><td>53</td><td>71</td><td>6.2</td><td>5.3444</td></tr><tr><td>2417</td><td>&quot;53075&quot;</td><td>77</td><td>2020</td><td>95.9</td><td>88.39513</td><td>7.50487</td><td>7.50487</td><td>&quot;WASHINGTON&quot;</td><td>53</td><td>75</td><td>3.0</td><td>2.877</td></tr><tr><td>3535</td><td>&quot;55039&quot;</td><td>112</td><td>2020</td><td>73.3</td><td>53.822117</td><td>19.477883</td><td>19.477883</td><td>&quot;WISCONSIN&quot;</td><td>55</td><td>39</td><td>6.0</td><td>4.398</td></tr><tr><td>5915</td><td>&quot;55071&quot;</td><td>183</td><td>2020</td><td>66.5</td><td>55.95143</td><td>10.54857</td><td>10.54857</td><td>&quot;WISCONSIN&quot;</td><td>55</td><td>71</td><td>3.1</td><td>2.0615</td></tr><tr><td>2784</td><td>&quot;55027&quot;</td><td>88</td><td>2020</td><td>82.0</td><td>84.13406</td><td>2.13406</td><td>-2.13406</td><td>&quot;WISCONSIN&quot;</td><td>55</td><td>27</td><td>2.9</td><td>2.378</td></tr></tbody></table></div>"
      ],
      "text/plain": [
       "shape: (790, 13)\n",
       "┌──────┬───────┬───────┬──────┬───┬────────────┬─────────────┬──────┬─────────┐\n",
       "│      ┆ fips  ┆ Index ┆ Year ┆ … ┆ State ANSI ┆ County ANSI ┆ CV   ┆ std_dev │\n",
       "│ ---  ┆ ---   ┆ ---   ┆ ---  ┆   ┆ ---        ┆ ---         ┆ ---  ┆ ---     │\n",
       "│ i64  ┆ str   ┆ i64   ┆ i64  ┆   ┆ i64        ┆ i64         ┆ f64  ┆ f64     │\n",
       "╞══════╪═══════╪═══════╪══════╪═══╪════════════╪═════════════╪══════╪═════════╡\n",
       "│ 1220 ┆ 08039 ┆ 40    ┆ 2023 ┆ … ┆ 8          ┆ 39          ┆ 5.0  ┆ 2.185   │\n",
       "│ 914  ┆ 08061 ┆ 30    ┆ 2023 ┆ … ┆ 8          ┆ 61          ┆ 7.2  ┆ 2.0592  │\n",
       "│ 5315 ┆ 08063 ┆ 166   ┆ 2023 ┆ … ┆ 8          ┆ 63          ┆ 5.1  ┆ 2.5449  │\n",
       "│ 1729 ┆ 08073 ┆ 56    ┆ 2023 ┆ … ┆ 8          ┆ 73          ┆ 15.3 ┆ 6.3189  │\n",
       "│ 4470 ┆ 08075 ┆ 142   ┆ 2023 ┆ … ┆ 8          ┆ 75          ┆ 7.9  ┆ 3.4681  │\n",
       "│ …    ┆ …     ┆ …     ┆ …    ┆ … ┆ …          ┆ …           ┆ …    ┆ …       │\n",
       "│ 2372 ┆ 53071 ┆ 76    ┆ 2020 ┆ … ┆ 53         ┆ 71          ┆ 6.2  ┆ 5.3444  │\n",
       "│ 2417 ┆ 53075 ┆ 77    ┆ 2020 ┆ … ┆ 53         ┆ 75          ┆ 3.0  ┆ 2.877   │\n",
       "│ 3535 ┆ 55039 ┆ 112   ┆ 2020 ┆ … ┆ 55         ┆ 39          ┆ 6.0  ┆ 4.398   │\n",
       "│ 5915 ┆ 55071 ┆ 183   ┆ 2020 ┆ … ┆ 55         ┆ 71          ┆ 3.1  ┆ 2.0615  │\n",
       "│ 2784 ┆ 55027 ┆ 88    ┆ 2020 ┆ … ┆ 55         ┆ 27          ┆ 2.9  ┆ 2.378   │\n",
       "└──────┴───────┴───────┴──────┴───┴────────────┴─────────────┴──────┴─────────┘"
      ]
     },
     "execution_count": 31,
     "metadata": {},
     "output_type": "execute_result"
    }
   ],
   "source": [
    "#i only have std_dev data from 2020 on, so i lose 200 obs\n",
    "\n",
    "winter_wheat=yields.join(natl,on=['fips','Year','yield'],how='inner')\n",
    "winter_wheat"
   ]
  },
  {
   "cell_type": "code",
   "execution_count": 32,
   "metadata": {},
   "outputs": [
    {
     "data": {
      "text/html": [
       "\n",
       "            <style>\n",
       "                .geemap-dark {\n",
       "                    --jp-widgets-color: white;\n",
       "                    --jp-widgets-label-color: white;\n",
       "                    --jp-ui-font-color1: white;\n",
       "                    --jp-layout-color2: #454545;\n",
       "                    background-color: #383838;\n",
       "                }\n",
       "\n",
       "                .geemap-dark .jupyter-button {\n",
       "                    --jp-layout-color3: #383838;\n",
       "                }\n",
       "\n",
       "                .geemap-colab {\n",
       "                    background-color: var(--colab-primary-surface-color, white);\n",
       "                }\n",
       "\n",
       "                .geemap-colab .jupyter-button {\n",
       "                    --jp-layout-color3: var(--colab-primary-surface-color, white);\n",
       "                }\n",
       "            </style>\n",
       "            "
      ],
      "text/plain": [
       "<IPython.core.display.HTML object>"
      ]
     },
     "metadata": {},
     "output_type": "display_data"
    },
    {
     "name": "stdout",
     "output_type": "stream",
     "text": [
      "                            OLS Regression Results                            \n",
      "==============================================================================\n",
      "Dep. Variable:                 y_pred   R-squared:                       0.026\n",
      "Model:                            OLS   Adj. R-squared:                  0.025\n",
      "Method:                 Least Squares   F-statistic:                     8.845\n",
      "Date:                Tue, 10 Jun 2025   Prob (F-statistic):            0.00331\n",
      "Time:                        12:37:39   Log-Likelihood:                -3406.7\n",
      "No. Observations:                 790   AIC:                             6817.\n",
      "Df Residuals:                     788   BIC:                             6827.\n",
      "Df Model:                           1                                         \n",
      "Covariance Type:              cluster                                         \n",
      "==============================================================================\n",
      "                 coef    std err          z      P>|z|      [0.025      0.975]\n",
      "------------------------------------------------------------------------------\n",
      "const         50.1538      2.003     25.038      0.000      46.228      54.080\n",
      "std_dev        1.7900      0.602      2.974      0.003       0.610       2.970\n",
      "==============================================================================\n",
      "Omnibus:                      151.784   Durbin-Watson:                   0.776\n",
      "Prob(Omnibus):                  0.000   Jarque-Bera (JB):              323.071\n",
      "Skew:                           1.065   Prob(JB):                     7.02e-71\n",
      "Kurtosis:                       5.298   Cond. No.                         8.00\n",
      "==============================================================================\n",
      "\n",
      "Notes:\n",
      "[1] Standard Errors are robust to cluster correlation (cluster)\n"
     ]
    }
   ],
   "source": [
    "import statsmodels.api as sm\n",
    "\n",
    "y = winter_wheat['y_pred'].to_pandas()\n",
    "X = winter_wheat['std_dev'].to_pandas()\n",
    "groups = winter_wheat['fips'].to_pandas()\n",
    "\n",
    "X = sm.add_constant(X)  \n",
    "\n",
    "model = sm.OLS(y, X)    \n",
    "results = model.fit(cov_type='cluster', cov_kwds={'groups': groups})\n",
    "\n",
    "print(results.summary())"
   ]
  },
  {
   "cell_type": "code",
   "execution_count": 33,
   "metadata": {},
   "outputs": [
    {
     "data": {
      "text/html": [
       "\n",
       "            <style>\n",
       "                .geemap-dark {\n",
       "                    --jp-widgets-color: white;\n",
       "                    --jp-widgets-label-color: white;\n",
       "                    --jp-ui-font-color1: white;\n",
       "                    --jp-layout-color2: #454545;\n",
       "                    background-color: #383838;\n",
       "                }\n",
       "\n",
       "                .geemap-dark .jupyter-button {\n",
       "                    --jp-layout-color3: #383838;\n",
       "                }\n",
       "\n",
       "                .geemap-colab {\n",
       "                    background-color: var(--colab-primary-surface-color, white);\n",
       "                }\n",
       "\n",
       "                .geemap-colab .jupyter-button {\n",
       "                    --jp-layout-color3: var(--colab-primary-surface-color, white);\n",
       "                }\n",
       "            </style>\n",
       "            "
      ],
      "text/plain": [
       "<IPython.core.display.HTML object>"
      ]
     },
     "metadata": {},
     "output_type": "display_data"
    },
    {
     "name": "stdout",
     "output_type": "stream",
     "text": [
      "                          PanelOLS Estimation Summary                           \n",
      "================================================================================\n",
      "Dep. Variable:                 y_pred   R-squared:                        0.0190\n",
      "Estimator:                   PanelOLS   R-squared (Between):              0.0660\n",
      "No. Observations:                 790   R-squared (Within):               0.0226\n",
      "Date:                Tue, Jun 10 2025   R-squared (Overall):              0.0656\n",
      "Time:                        12:37:39   Log-likelihood                   -2430.8\n",
      "Cov. Estimator:             Clustered                                           \n",
      "                                        F-statistic:                      11.376\n",
      "Entities:                         198   P-value                           0.0008\n",
      "Avg Obs:                       3.9899   Distribution:                   F(1,588)\n",
      "Min Obs:                       3.0000                                           \n",
      "Max Obs:                       4.0000   F-statistic (robust):             7.4621\n",
      "                                        P-value                           0.0065\n",
      "Time periods:                       4   Distribution:                   F(1,588)\n",
      "Avg Obs:                       197.50                                           \n",
      "Min Obs:                       196.00                                           \n",
      "Max Obs:                       198.00                                           \n",
      "                                                                                \n",
      "                             Parameter Estimates                              \n",
      "==============================================================================\n",
      "            Parameter  Std. Err.     T-stat    P-value    Lower CI    Upper CI\n",
      "------------------------------------------------------------------------------\n",
      "std_dev        0.6468     0.2368     2.7317     0.0065      0.1818      1.1119\n",
      "==============================================================================\n",
      "\n",
      "F-test for Poolability: 31.838\n",
      "P-value: 0.0000\n",
      "Distribution: F(200,588)\n",
      "\n",
      "Included effects: Entity, Time\n"
     ]
    }
   ],
   "source": [
    "from linearmodels.panel import PanelOLS\n",
    "\n",
    "df = winter_wheat.to_pandas()\n",
    "df['fips'] = df['fips'].astype(str)\n",
    "df = df.set_index(['fips', 'Year'])\n",
    "\n",
    "# Panel OLS with both county (Entity) and year (Time) fixed effects\n",
    "mod = PanelOLS.from_formula('y_pred ~ std_dev + EntityEffects + TimeEffects', data=df)\n",
    "res = mod.fit(cov_type='clustered', cluster_entity=True)\n",
    "\n",
    "print(res.summary)\n"
   ]
  },
  {
   "cell_type": "code",
   "execution_count": 34,
   "metadata": {},
   "outputs": [
    {
     "data": {
      "text/html": [
       "\n",
       "            <style>\n",
       "                .geemap-dark {\n",
       "                    --jp-widgets-color: white;\n",
       "                    --jp-widgets-label-color: white;\n",
       "                    --jp-ui-font-color1: white;\n",
       "                    --jp-layout-color2: #454545;\n",
       "                    background-color: #383838;\n",
       "                }\n",
       "\n",
       "                .geemap-dark .jupyter-button {\n",
       "                    --jp-layout-color3: #383838;\n",
       "                }\n",
       "\n",
       "                .geemap-colab {\n",
       "                    background-color: var(--colab-primary-surface-color, white);\n",
       "                }\n",
       "\n",
       "                .geemap-colab .jupyter-button {\n",
       "                    --jp-layout-color3: var(--colab-primary-surface-color, white);\n",
       "                }\n",
       "            </style>\n",
       "            "
      ],
      "text/plain": [
       "<IPython.core.display.HTML object>"
      ]
     },
     "metadata": {},
     "output_type": "display_data"
    },
    {
     "data": {
      "image/png": "[encoded data removed]",
      "text/plain": [
       "<Figure size 640x480 with 1 Axes>"
      ]
     },
     "metadata": {},
     "output_type": "display_data"
    }
   ],
   "source": [
    "import matplotlib.pyplot as plt\n",
    "\n",
    "X = winter_wheat['std_dev'].to_pandas()\n",
    "plt.scatter(X,y,color='red',s=10)\n",
    "plt.xlabel('Std Dev')\n",
    "plt.ylabel('Predicted Yield')\n",
    "plt.title('Std Dev vs Predicted Mean Yield')\n",
    "plt.show()"
   ]
  },
  {
   "cell_type": "markdown",
   "metadata": {},
   "source": [
    "**error regressed on standard deviation**"
   ]
  },
  {
   "cell_type": "code",
   "execution_count": 35,
   "metadata": {},
   "outputs": [
    {
     "data": {
      "text/html": [
       "\n",
       "            <style>\n",
       "                .geemap-dark {\n",
       "                    --jp-widgets-color: white;\n",
       "                    --jp-widgets-label-color: white;\n",
       "                    --jp-ui-font-color1: white;\n",
       "                    --jp-layout-color2: #454545;\n",
       "                    background-color: #383838;\n",
       "                }\n",
       "\n",
       "                .geemap-dark .jupyter-button {\n",
       "                    --jp-layout-color3: #383838;\n",
       "                }\n",
       "\n",
       "                .geemap-colab {\n",
       "                    background-color: var(--colab-primary-surface-color, white);\n",
       "                }\n",
       "\n",
       "                .geemap-colab .jupyter-button {\n",
       "                    --jp-layout-color3: var(--colab-primary-surface-color, white);\n",
       "                }\n",
       "            </style>\n",
       "            "
      ],
      "text/plain": [
       "<IPython.core.display.HTML object>"
      ]
     },
     "metadata": {},
     "output_type": "display_data"
    },
    {
     "name": "stdout",
     "output_type": "stream",
     "text": [
      "                            OLS Regression Results                            \n",
      "==============================================================================\n",
      "Dep. Variable:                  error   R-squared:                       0.016\n",
      "Model:                            OLS   Adj. R-squared:                  0.014\n",
      "Method:                 Least Squares   F-statistic:                     11.69\n",
      "Date:                Tue, 10 Jun 2025   Prob (F-statistic):           0.000762\n",
      "Time:                        12:37:39   Log-Likelihood:                -3088.0\n",
      "No. Observations:                 790   AIC:                             6180.\n",
      "Df Residuals:                     788   BIC:                             6189.\n",
      "Df Model:                           1                                         \n",
      "Covariance Type:              cluster                                         \n",
      "==============================================================================\n",
      "                 coef    std err          z      P>|z|      [0.025      0.975]\n",
      "------------------------------------------------------------------------------\n",
      "const         -2.5860      1.116     -2.317      0.020      -4.773      -0.399\n",
      "std_dev        0.9143      0.267      3.420      0.001       0.390       1.438\n",
      "==============================================================================\n",
      "Omnibus:                       53.424   Durbin-Watson:                   1.310\n",
      "Prob(Omnibus):                  0.000   Jarque-Bera (JB):              197.201\n",
      "Skew:                           0.181   Prob(JB):                     1.51e-43\n",
      "Kurtosis:                       5.421   Cond. No.                         8.00\n",
      "==============================================================================\n",
      "\n",
      "Notes:\n",
      "[1] Standard Errors are robust to cluster correlation (cluster)\n"
     ]
    }
   ],
   "source": [
    "import statsmodels.api as sm\n",
    "\n",
    "y = winter_wheat['error'].to_pandas()\n",
    "X = winter_wheat['std_dev'].to_pandas()\n",
    "groups = winter_wheat['fips'].to_pandas()\n",
    "\n",
    "X = sm.add_constant(X)  \n",
    "\n",
    "model = sm.OLS(y, X)    \n",
    "results = model.fit(cov_type='cluster', cov_kwds={'groups': groups})\n",
    "\n",
    "print(results.summary())\n"
   ]
  },
  {
   "cell_type": "code",
   "execution_count": 36,
   "metadata": {},
   "outputs": [
    {
     "data": {
      "text/html": [
       "\n",
       "            <style>\n",
       "                .geemap-dark {\n",
       "                    --jp-widgets-color: white;\n",
       "                    --jp-widgets-label-color: white;\n",
       "                    --jp-ui-font-color1: white;\n",
       "                    --jp-layout-color2: #454545;\n",
       "                    background-color: #383838;\n",
       "                }\n",
       "\n",
       "                .geemap-dark .jupyter-button {\n",
       "                    --jp-layout-color3: #383838;\n",
       "                }\n",
       "\n",
       "                .geemap-colab {\n",
       "                    background-color: var(--colab-primary-surface-color, white);\n",
       "                }\n",
       "\n",
       "                .geemap-colab .jupyter-button {\n",
       "                    --jp-layout-color3: var(--colab-primary-surface-color, white);\n",
       "                }\n",
       "            </style>\n",
       "            "
      ],
      "text/plain": [
       "<IPython.core.display.HTML object>"
      ]
     },
     "metadata": {},
     "output_type": "display_data"
    },
    {
     "name": "stdout",
     "output_type": "stream",
     "text": [
      "                          PanelOLS Estimation Summary                           \n",
      "================================================================================\n",
      "Dep. Variable:                  error   R-squared:                        0.0589\n",
      "Estimator:                   PanelOLS   R-squared (Between):             -0.3470\n",
      "No. Observations:                 790   R-squared (Within):               0.0520\n",
      "Date:                Tue, Jun 10 2025   R-squared (Overall):             -0.1725\n",
      "Time:                        12:37:39   Log-likelihood                   -2741.2\n",
      "Cov. Estimator:             Clustered                                           \n",
      "                                        F-statistic:                      36.790\n",
      "Entities:                         198   P-value                           0.0000\n",
      "Avg Obs:                       3.9899   Distribution:                   F(1,588)\n",
      "Min Obs:                       3.0000                                           \n",
      "Max Obs:                       4.0000   F-statistic (robust):             18.854\n",
      "                                        P-value                           0.0000\n",
      "Time periods:                       4   Distribution:                   F(1,588)\n",
      "Avg Obs:                       197.50                                           \n",
      "Min Obs:                       196.00                                           \n",
      "Max Obs:                       198.00                                           \n",
      "                                                                                \n",
      "                             Parameter Estimates                              \n",
      "==============================================================================\n",
      "            Parameter  Std. Err.     T-stat    P-value    Lower CI    Upper CI\n",
      "------------------------------------------------------------------------------\n",
      "std_dev        1.7231     0.3968     4.3421     0.0000      0.9437      2.5025\n",
      "==============================================================================\n",
      "\n",
      "F-test for Poolability: 4.1325\n",
      "P-value: 0.0000\n",
      "Distribution: F(200,588)\n",
      "\n",
      "Included effects: Entity, Time\n"
     ]
    }
   ],
   "source": [
    "from linearmodels.panel import PanelOLS\n",
    "\n",
    "df = winter_wheat.to_pandas()\n",
    "df['fips'] = df['fips'].astype(str)\n",
    "df = df.set_index(['fips', 'Year'])\n",
    "\n",
    "# Panel OLS with both county (Entity) and year (Time) fixed effects\n",
    "mod = PanelOLS.from_formula('error ~ std_dev + EntityEffects + TimeEffects', data=df)\n",
    "res = mod.fit(cov_type='clustered', cluster_entity=True)\n",
    "\n",
    "print(res.summary)\n"
   ]
  },
  {
   "cell_type": "code",
   "execution_count": 37,
   "metadata": {},
   "outputs": [
    {
     "data": {
      "text/html": [
       "\n",
       "            <style>\n",
       "                .geemap-dark {\n",
       "                    --jp-widgets-color: white;\n",
       "                    --jp-widgets-label-color: white;\n",
       "                    --jp-ui-font-color1: white;\n",
       "                    --jp-layout-color2: #454545;\n",
       "                    background-color: #383838;\n",
       "                }\n",
       "\n",
       "                .geemap-dark .jupyter-button {\n",
       "                    --jp-layout-color3: #383838;\n",
       "                }\n",
       "\n",
       "                .geemap-colab {\n",
       "                    background-color: var(--colab-primary-surface-color, white);\n",
       "                }\n",
       "\n",
       "                .geemap-colab .jupyter-button {\n",
       "                    --jp-layout-color3: var(--colab-primary-surface-color, white);\n",
       "                }\n",
       "            </style>\n",
       "            "
      ],
      "text/plain": [
       "<IPython.core.display.HTML object>"
      ]
     },
     "metadata": {},
     "output_type": "display_data"
    },
    {
     "data": {
      "image/png": "[encoded data removed]",
      "text/plain": [
       "<Figure size 640x480 with 1 Axes>"
      ]
     },
     "metadata": {},
     "output_type": "display_data"
    }
   ],
   "source": [
    "import matplotlib.pyplot as plt\n",
    "\n",
    "X = winter_wheat['std_dev'].to_pandas()\n",
    "plt.scatter(X,y,color='red',s=10)\n",
    "plt.xlabel('Std Dev')\n",
    "plt.ylabel('Error')\n",
    "plt.title('Std Dev vs Error')\n",
    "plt.show()"
   ]
  },
  {
   "cell_type": "markdown",
   "metadata": {},
   "source": [
    "Std dev and absolute error"
   ]
  },
  {
   "cell_type": "code",
   "execution_count": 38,
   "metadata": {},
   "outputs": [
    {
     "data": {
      "text/html": [
       "\n",
       "            <style>\n",
       "                .geemap-dark {\n",
       "                    --jp-widgets-color: white;\n",
       "                    --jp-widgets-label-color: white;\n",
       "                    --jp-ui-font-color1: white;\n",
       "                    --jp-layout-color2: #454545;\n",
       "                    background-color: #383838;\n",
       "                }\n",
       "\n",
       "                .geemap-dark .jupyter-button {\n",
       "                    --jp-layout-color3: #383838;\n",
       "                }\n",
       "\n",
       "                .geemap-colab {\n",
       "                    background-color: var(--colab-primary-surface-color, white);\n",
       "                }\n",
       "\n",
       "                .geemap-colab .jupyter-button {\n",
       "                    --jp-layout-color3: var(--colab-primary-surface-color, white);\n",
       "                }\n",
       "            </style>\n",
       "            "
      ],
      "text/plain": [
       "<IPython.core.display.HTML object>"
      ]
     },
     "metadata": {},
     "output_type": "display_data"
    },
    {
     "name": "stdout",
     "output_type": "stream",
     "text": [
      "                            OLS Regression Results                            \n",
      "==============================================================================\n",
      "Dep. Variable:              abs_error   R-squared:                       0.003\n",
      "Model:                            OLS   Adj. R-squared:                  0.001\n",
      "Method:                 Least Squares   F-statistic:                     2.012\n",
      "Date:                Tue, 10 Jun 2025   Prob (F-statistic):              0.158\n",
      "Time:                        12:37:39   Log-Likelihood:                -2765.0\n",
      "No. Observations:                 790   AIC:                             5534.\n",
      "Df Residuals:                     788   BIC:                             5543.\n",
      "Df Model:                           1                                         \n",
      "Covariance Type:              cluster                                         \n",
      "==============================================================================\n",
      "                 coef    std err          z      P>|z|      [0.025      0.975]\n",
      "------------------------------------------------------------------------------\n",
      "const          9.9172      0.725     13.677      0.000       8.496      11.338\n",
      "std_dev       -0.2516      0.177     -1.419      0.156      -0.599       0.096\n",
      "==============================================================================\n",
      "Omnibus:                      354.207   Durbin-Watson:                   1.844\n",
      "Prob(Omnibus):                  0.000   Jarque-Bera (JB):             2021.980\n",
      "Skew:                           1.975   Prob(JB):                         0.00\n",
      "Kurtosis:                       9.769   Cond. No.                         8.00\n",
      "==============================================================================\n",
      "\n",
      "Notes:\n",
      "[1] Standard Errors are robust to cluster correlation (cluster)\n"
     ]
    }
   ],
   "source": [
    "import statsmodels.api as sm\n",
    "\n",
    "y = winter_wheat['abs_error'].to_pandas()\n",
    "X = winter_wheat['std_dev'].to_pandas()\n",
    "groups = winter_wheat['fips'].to_pandas()\n",
    "\n",
    "X = sm.add_constant(X)  \n",
    "\n",
    "model = sm.OLS(y, X)    \n",
    "results = model.fit(cov_type='cluster', cov_kwds={'groups': groups})\n",
    "\n",
    "print(results.summary())\n"
   ]
  },
  {
   "cell_type": "code",
   "execution_count": 39,
   "metadata": {},
   "outputs": [
    {
     "data": {
      "text/html": [
       "\n",
       "            <style>\n",
       "                .geemap-dark {\n",
       "                    --jp-widgets-color: white;\n",
       "                    --jp-widgets-label-color: white;\n",
       "                    --jp-ui-font-color1: white;\n",
       "                    --jp-layout-color2: #454545;\n",
       "                    background-color: #383838;\n",
       "                }\n",
       "\n",
       "                .geemap-dark .jupyter-button {\n",
       "                    --jp-layout-color3: #383838;\n",
       "                }\n",
       "\n",
       "                .geemap-colab {\n",
       "                    background-color: var(--colab-primary-surface-color, white);\n",
       "                }\n",
       "\n",
       "                .geemap-colab .jupyter-button {\n",
       "                    --jp-layout-color3: var(--colab-primary-surface-color, white);\n",
       "                }\n",
       "            </style>\n",
       "            "
      ],
      "text/plain": [
       "<IPython.core.display.HTML object>"
      ]
     },
     "metadata": {},
     "output_type": "display_data"
    },
    {
     "name": "stdout",
     "output_type": "stream",
     "text": [
      "                          PanelOLS Estimation Summary                           \n",
      "================================================================================\n",
      "Dep. Variable:              abs_error   R-squared:                        0.0175\n",
      "Estimator:                   PanelOLS   R-squared (Between):             -0.4131\n",
      "No. Observations:                 790   R-squared (Within):               0.0061\n",
      "Date:                Tue, Jun 10 2025   R-squared (Overall):             -0.3073\n",
      "Time:                        12:37:39   Log-likelihood                   -2532.1\n",
      "Cov. Estimator:             Clustered                                           \n",
      "                                        F-statistic:                      10.497\n",
      "Entities:                         198   P-value                           0.0013\n",
      "Avg Obs:                       3.9899   Distribution:                   F(1,588)\n",
      "Min Obs:                       3.0000                                           \n",
      "Max Obs:                       4.0000   F-statistic (robust):             3.3876\n",
      "                                        P-value                           0.0662\n",
      "Time periods:                       4   Distribution:                   F(1,588)\n",
      "Avg Obs:                       197.50                                           \n",
      "Min Obs:                       196.00                                           \n",
      "Max Obs:                       198.00                                           \n",
      "                                                                                \n",
      "                             Parameter Estimates                              \n",
      "==============================================================================\n",
      "            Parameter  Std. Err.     T-stat    P-value    Lower CI    Upper CI\n",
      "------------------------------------------------------------------------------\n",
      "std_dev       -0.7063     0.3837    -1.8405     0.0662     -1.4599      0.0474\n",
      "==============================================================================\n",
      "\n",
      "F-test for Poolability: 2.3621\n",
      "P-value: 0.0000\n",
      "Distribution: F(200,588)\n",
      "\n",
      "Included effects: Entity, Time\n"
     ]
    }
   ],
   "source": [
    "from linearmodels.panel import PanelOLS\n",
    "\n",
    "df = winter_wheat.to_pandas()\n",
    "df['fips'] = df['fips'].astype(str)\n",
    "df = df.set_index(['fips', 'Year'])\n",
    "\n",
    "# Panel OLS with both county (Entity) and year (Time) fixed effects\n",
    "mod = PanelOLS.from_formula('abs_error ~ std_dev + EntityEffects + TimeEffects', data=df)\n",
    "res = mod.fit(cov_type='clustered', cluster_entity=True)\n",
    "\n",
    "print(res.summary)\n"
   ]
  },
  {
   "cell_type": "code",
   "execution_count": 40,
   "metadata": {},
   "outputs": [
    {
     "data": {
      "text/html": [
       "\n",
       "            <style>\n",
       "                .geemap-dark {\n",
       "                    --jp-widgets-color: white;\n",
       "                    --jp-widgets-label-color: white;\n",
       "                    --jp-ui-font-color1: white;\n",
       "                    --jp-layout-color2: #454545;\n",
       "                    background-color: #383838;\n",
       "                }\n",
       "\n",
       "                .geemap-dark .jupyter-button {\n",
       "                    --jp-layout-color3: #383838;\n",
       "                }\n",
       "\n",
       "                .geemap-colab {\n",
       "                    background-color: var(--colab-primary-surface-color, white);\n",
       "                }\n",
       "\n",
       "                .geemap-colab .jupyter-button {\n",
       "                    --jp-layout-color3: var(--colab-primary-surface-color, white);\n",
       "                }\n",
       "            </style>\n",
       "            "
      ],
      "text/plain": [
       "<IPython.core.display.HTML object>"
      ]
     },
     "metadata": {},
     "output_type": "display_data"
    },
    {
     "data": {
      "image/png": "[encoded data removed]",
      "text/plain": [
       "<Figure size 640x480 with 1 Axes>"
      ]
     },
     "metadata": {},
     "output_type": "display_data"
    }
   ],
   "source": [
    "import matplotlib.pyplot as plt\n",
    "\n",
    "X = winter_wheat['std_dev'].to_pandas()\n",
    "plt.scatter(X,y,color='red',s=10)\n",
    "plt.xlabel('Std Dev')\n",
    "plt.ylabel('Absolute Error')\n",
    "plt.title('Std Dev vs Absolute Error')\n",
    "plt.show()"
   ]
  },
  {
   "cell_type": "markdown",
   "metadata": {},
   "source": [
    "#### 3D CNN trying to predict Standard Deviation"
   ]
  },
  {
   "cell_type": "markdown",
   "metadata": {},
   "source": [
    "Get y"
   ]
  },
  {
   "cell_type": "code",
   "execution_count": 17,
   "metadata": {},
   "outputs": [
    {
     "data": {
      "text/html": [
       "\n",
       "            <style>\n",
       "                .geemap-dark {\n",
       "                    --jp-widgets-color: white;\n",
       "                    --jp-widgets-label-color: white;\n",
       "                    --jp-ui-font-color1: white;\n",
       "                    --jp-layout-color2: #454545;\n",
       "                    background-color: #383838;\n",
       "                }\n",
       "\n",
       "                .geemap-dark .jupyter-button {\n",
       "                    --jp-layout-color3: #383838;\n",
       "                }\n",
       "\n",
       "                .geemap-colab {\n",
       "                    background-color: var(--colab-primary-surface-color, white);\n",
       "                }\n",
       "\n",
       "                .geemap-colab .jupyter-button {\n",
       "                    --jp-layout-color3: var(--colab-primary-surface-color, white);\n",
       "                }\n",
       "            </style>\n",
       "            "
      ],
      "text/plain": [
       "<IPython.core.display.HTML object>"
      ]
     },
     "metadata": {},
     "output_type": "display_data"
    },
    {
     "data": {
      "text/html": [
       "<div><style>\n",
       ".dataframe > thead > tr,\n",
       ".dataframe > tbody > tr {\n",
       "  text-align: right;\n",
       "  white-space: pre-wrap;\n",
       "}\n",
       "</style>\n",
       "<small>shape: (790, 13)</small><table border=\"1\" class=\"dataframe\"><thead><tr><th></th><th>fips</th><th>Index</th><th>Year</th><th>yield</th><th>y_pred</th><th>abs_error</th><th>error</th><th>State</th><th>State ANSI</th><th>County ANSI</th><th>CV</th><th>std_dev</th></tr><tr><td>i64</td><td>str</td><td>i64</td><td>i64</td><td>f64</td><td>f64</td><td>f64</td><td>f64</td><td>str</td><td>i64</td><td>i64</td><td>f64</td><td>f64</td></tr></thead><tbody><tr><td>1220</td><td>&quot;08039&quot;</td><td>40</td><td>2023</td><td>43.7</td><td>38.561337</td><td>5.138663</td><td>5.138663</td><td>&quot;COLORADO&quot;</td><td>8</td><td>39</td><td>5.0</td><td>2.185</td></tr><tr><td>914</td><td>&quot;08061&quot;</td><td>30</td><td>2023</td><td>28.6</td><td>31.953047</td><td>3.353047</td><td>-3.353047</td><td>&quot;COLORADO&quot;</td><td>8</td><td>61</td><td>7.2</td><td>2.0592</td></tr><tr><td>5315</td><td>&quot;08063&quot;</td><td>166</td><td>2023</td><td>49.9</td><td>51.37901</td><td>1.47901</td><td>-1.47901</td><td>&quot;COLORADO&quot;</td><td>8</td><td>63</td><td>5.1</td><td>2.5449</td></tr><tr><td>1729</td><td>&quot;08073&quot;</td><td>56</td><td>2023</td><td>41.3</td><td>42.422306</td><td>1.122306</td><td>-1.122306</td><td>&quot;COLORADO&quot;</td><td>8</td><td>73</td><td>15.3</td><td>6.3189</td></tr><tr><td>4470</td><td>&quot;08075&quot;</td><td>142</td><td>2023</td><td>43.9</td><td>38.576805</td><td>5.323195</td><td>5.323195</td><td>&quot;COLORADO&quot;</td><td>8</td><td>75</td><td>7.9</td><td>3.4681</td></tr><tr><td>&hellip;</td><td>&hellip;</td><td>&hellip;</td><td>&hellip;</td><td>&hellip;</td><td>&hellip;</td><td>&hellip;</td><td>&hellip;</td><td>&hellip;</td><td>&hellip;</td><td>&hellip;</td><td>&hellip;</td><td>&hellip;</td></tr><tr><td>2372</td><td>&quot;53071&quot;</td><td>76</td><td>2020</td><td>86.2</td><td>82.52843</td><td>3.67157</td><td>3.67157</td><td>&quot;WASHINGTON&quot;</td><td>53</td><td>71</td><td>6.2</td><td>5.3444</td></tr><tr><td>2417</td><td>&quot;53075&quot;</td><td>77</td><td>2020</td><td>95.9</td><td>88.39513</td><td>7.50487</td><td>7.50487</td><td>&quot;WASHINGTON&quot;</td><td>53</td><td>75</td><td>3.0</td><td>2.877</td></tr><tr><td>3535</td><td>&quot;55039&quot;</td><td>112</td><td>2020</td><td>73.3</td><td>53.822117</td><td>19.477883</td><td>19.477883</td><td>&quot;WISCONSIN&quot;</td><td>55</td><td>39</td><td>6.0</td><td>4.398</td></tr><tr><td>5915</td><td>&quot;55071&quot;</td><td>183</td><td>2020</td><td>66.5</td><td>55.95143</td><td>10.54857</td><td>10.54857</td><td>&quot;WISCONSIN&quot;</td><td>55</td><td>71</td><td>3.1</td><td>2.0615</td></tr><tr><td>2784</td><td>&quot;55027&quot;</td><td>88</td><td>2020</td><td>82.0</td><td>84.13406</td><td>2.13406</td><td>-2.13406</td><td>&quot;WISCONSIN&quot;</td><td>55</td><td>27</td><td>2.9</td><td>2.378</td></tr></tbody></table></div>"
      ],
      "text/plain": [
       "shape: (790, 13)\n",
       "┌──────┬───────┬───────┬──────┬───┬────────────┬─────────────┬──────┬─────────┐\n",
       "│      ┆ fips  ┆ Index ┆ Year ┆ … ┆ State ANSI ┆ County ANSI ┆ CV   ┆ std_dev │\n",
       "│ ---  ┆ ---   ┆ ---   ┆ ---  ┆   ┆ ---        ┆ ---         ┆ ---  ┆ ---     │\n",
       "│ i64  ┆ str   ┆ i64   ┆ i64  ┆   ┆ i64        ┆ i64         ┆ f64  ┆ f64     │\n",
       "╞══════╪═══════╪═══════╪══════╪═══╪════════════╪═════════════╪══════╪═════════╡\n",
       "│ 1220 ┆ 08039 ┆ 40    ┆ 2023 ┆ … ┆ 8          ┆ 39          ┆ 5.0  ┆ 2.185   │\n",
       "│ 914  ┆ 08061 ┆ 30    ┆ 2023 ┆ … ┆ 8          ┆ 61          ┆ 7.2  ┆ 2.0592  │\n",
       "│ 5315 ┆ 08063 ┆ 166   ┆ 2023 ┆ … ┆ 8          ┆ 63          ┆ 5.1  ┆ 2.5449  │\n",
       "│ 1729 ┆ 08073 ┆ 56    ┆ 2023 ┆ … ┆ 8          ┆ 73          ┆ 15.3 ┆ 6.3189  │\n",
       "│ 4470 ┆ 08075 ┆ 142   ┆ 2023 ┆ … ┆ 8          ┆ 75          ┆ 7.9  ┆ 3.4681  │\n",
       "│ …    ┆ …     ┆ …     ┆ …    ┆ … ┆ …          ┆ …           ┆ …    ┆ …       │\n",
       "│ 2372 ┆ 53071 ┆ 76    ┆ 2020 ┆ … ┆ 53         ┆ 71          ┆ 6.2  ┆ 5.3444  │\n",
       "│ 2417 ┆ 53075 ┆ 77    ┆ 2020 ┆ … ┆ 53         ┆ 75          ┆ 3.0  ┆ 2.877   │\n",
       "│ 3535 ┆ 55039 ┆ 112   ┆ 2020 ┆ … ┆ 55         ┆ 39          ┆ 6.0  ┆ 4.398   │\n",
       "│ 5915 ┆ 55071 ┆ 183   ┆ 2020 ┆ … ┆ 55         ┆ 71          ┆ 3.1  ┆ 2.0615  │\n",
       "│ 2784 ┆ 55027 ┆ 88    ┆ 2020 ┆ … ┆ 55         ┆ 27          ┆ 2.9  ┆ 2.378   │\n",
       "└──────┴───────┴───────┴──────┴───┴────────────┴─────────────┴──────┴─────────┘"
      ]
     },
     "execution_count": 17,
     "metadata": {},
     "output_type": "execute_result"
    }
   ],
   "source": [
    "y=winter_wheat['std_dev']\n",
    "winter_wheat"
   ]
  },
  {
   "cell_type": "markdown",
   "metadata": {},
   "source": [
    "Make X and y for this CNN"
   ]
  },
  {
   "cell_type": "code",
   "execution_count": 2,
   "metadata": {},
   "outputs": [
    {
     "name": "stdout",
     "output_type": "stream",
     "text": [
      "⏭️ Skipping county 52 in 2022\n",
      "⏭️ Skipping county 72 in 2022\n",
      "✅ Final input shape: (790, 46, 128, 128, 7)\n"
     ]
    }
   ],
   "source": [
    "import numpy as np\n",
    "import os\n",
    "\n",
    "data_dir = r'C:\\Users\\porter77\\OneDrive - Brigham Young University\\Huron\\modis_numpy_standardized'\n",
    "X_list = []\n",
    "\n",
    "for year_folder in sorted(os.listdir(data_dir)):\n",
    "    if year_folder == \"2019\":\n",
    "        continue\n",
    "\n",
    "    year_path = os.path.join(data_dir, year_folder)\n",
    "    if os.path.isdir(year_path):\n",
    "        for fname in sorted(os.listdir(year_path)):\n",
    "            if fname.endswith(\".npy\"):\n",
    "                try:\n",
    "                    # Now expecting filename like 'county_72.npy'\n",
    "                    county_str = fname.replace(\"county_\", \"\").replace(\".npy\", \"\")\n",
    "                    county_num = int(county_str)\n",
    "                except ValueError:\n",
    "                    print(f\"⚠️ Skipping malformed filename: {fname}\")\n",
    "                    continue\n",
    "\n",
    "                if year_folder == \"2022\" and county_num in [72, 52]:\n",
    "                    print(f\"⏭️ Skipping county {county_num} in 2022\")\n",
    "                    continue\n",
    "\n",
    "                full_path = os.path.join(year_path, fname)\n",
    "                arr = np.load(full_path)\n",
    "                X_list.append(arr)\n",
    "\n",
    "X = np.stack(X_list, axis=0)\n",
    "print(\"✅ Final input shape:\", X.shape)\n"
   ]
  },
  {
   "cell_type": "code",
   "execution_count": 4,
   "metadata": {},
   "outputs": [],
   "source": [
    "np.save(file=r'C:\\Users\\porter77\\OneDrive - Brigham Young University\\Huron\\yield_prediction\\Training Data\\X_std_dev.npy',arr=X)\n"
   ]
  },
  {
   "cell_type": "code",
   "execution_count": 16,
   "metadata": {},
   "outputs": [
    {
     "data": {
      "text/html": [
       "\n",
       "            <style>\n",
       "                .geemap-dark {\n",
       "                    --jp-widgets-color: white;\n",
       "                    --jp-widgets-label-color: white;\n",
       "                    --jp-ui-font-color1: white;\n",
       "                    --jp-layout-color2: #454545;\n",
       "                    background-color: #383838;\n",
       "                }\n",
       "\n",
       "                .geemap-dark .jupyter-button {\n",
       "                    --jp-layout-color3: #383838;\n",
       "                }\n",
       "\n",
       "                .geemap-colab {\n",
       "                    background-color: var(--colab-primary-surface-color, white);\n",
       "                }\n",
       "\n",
       "                .geemap-colab .jupyter-button {\n",
       "                    --jp-layout-color3: var(--colab-primary-surface-color, white);\n",
       "                }\n",
       "            </style>\n",
       "            "
      ],
      "text/plain": [
       "<IPython.core.display.HTML object>"
      ]
     },
     "metadata": {},
     "output_type": "display_data"
    }
   ],
   "source": [
    "from sklearn.model_selection import train_test_split\n",
    "\n",
    "X_train, X_val, y_train, y_val = train_test_split(\n",
    "    X, y, test_size=0.2, random_state=21)"
   ]
  },
  {
   "cell_type": "code",
   "execution_count": 18,
   "metadata": {},
   "outputs": [
    {
     "data": {
      "text/html": [
       "\n",
       "            <style>\n",
       "                .geemap-dark {\n",
       "                    --jp-widgets-color: white;\n",
       "                    --jp-widgets-label-color: white;\n",
       "                    --jp-ui-font-color1: white;\n",
       "                    --jp-layout-color2: #454545;\n",
       "                    background-color: #383838;\n",
       "                }\n",
       "\n",
       "                .geemap-dark .jupyter-button {\n",
       "                    --jp-layout-color3: #383838;\n",
       "                }\n",
       "\n",
       "                .geemap-colab {\n",
       "                    background-color: var(--colab-primary-surface-color, white);\n",
       "                }\n",
       "\n",
       "                .geemap-colab .jupyter-button {\n",
       "                    --jp-layout-color3: var(--colab-primary-surface-color, white);\n",
       "                }\n",
       "            </style>\n",
       "            "
      ],
      "text/plain": [
       "<IPython.core.display.HTML object>"
      ]
     },
     "metadata": {},
     "output_type": "display_data"
    }
   ],
   "source": [
    "np.save(file=r'C:\\Users\\porter77\\OneDrive - Brigham Young University\\Huron\\yield_prediction\\Training Data\\X_train_std_dev.npy',arr=X_train)\n",
    "np.save(file=r'C:\\Users\\porter77\\OneDrive - Brigham Young University\\Huron\\yield_prediction\\Training Data\\y_train_std_dev.npy',arr=y_train)\n",
    "np.save(file=r'C:\\Users\\porter77\\OneDrive - Brigham Young University\\Huron\\yield_prediction\\Training Data\\X_val_std_dev.npy',arr=X_val)\n",
    "np.save(file=r'C:\\Users\\porter77\\OneDrive - Brigham Young University\\Huron\\yield_prediction\\Training Data\\y_val_std_dev.npy',arr=y_val)"
   ]
  },
  {
   "cell_type": "code",
   "execution_count": 3,
   "metadata": {},
   "outputs": [
    {
     "data": {
      "text/html": [
       "\n",
       "            <style>\n",
       "                .geemap-dark {\n",
       "                    --jp-widgets-color: white;\n",
       "                    --jp-widgets-label-color: white;\n",
       "                    --jp-ui-font-color1: white;\n",
       "                    --jp-layout-color2: #454545;\n",
       "                    background-color: #383838;\n",
       "                }\n",
       "\n",
       "                .geemap-dark .jupyter-button {\n",
       "                    --jp-layout-color3: #383838;\n",
       "                }\n",
       "\n",
       "                .geemap-colab {\n",
       "                    background-color: var(--colab-primary-surface-color, white);\n",
       "                }\n",
       "\n",
       "                .geemap-colab .jupyter-button {\n",
       "                    --jp-layout-color3: var(--colab-primary-surface-color, white);\n",
       "                }\n",
       "            </style>\n",
       "            "
      ],
      "text/plain": [
       "<IPython.core.display.HTML object>"
      ]
     },
     "metadata": {},
     "output_type": "display_data"
    }
   ],
   "source": [
    "import numpy as np\n",
    "import tensorflow as tf\n",
    "\n",
    "# Load from disk using memory-mapping\n",
    "X_train = np.load(r'C:\\Users\\porter77\\OneDrive - Brigham Young University\\Huron\\yield_prediction\\Training Data\\X_train_std_dev.npy', mmap_mode='r')\n",
    "y_train = np.load(r'C:\\Users\\porter77\\OneDrive - Brigham Young University\\Huron\\yield_prediction\\Training Data\\y_train_std_dev.npy', mmap_mode='r')\n",
    "X_val = np.load(r'C:\\Users\\porter77\\OneDrive - Brigham Young University\\Huron\\yield_prediction\\Training Data\\X_val_std_dev.npy', mmap_mode='r')\n",
    "y_val = np.load(r'C:\\Users\\porter77\\OneDrive - Brigham Young University\\Huron\\yield_prediction\\Training Data\\y_val_std_dev.npy', mmap_mode='r')\n",
    "X=np.load(r'C:\\Users\\porter77\\OneDrive - Brigham Young University\\Huron\\yield_prediction\\Training Data\\X_std_dev.npy',mmap_mode='r')\n"
   ]
  },
  {
   "cell_type": "code",
   "execution_count": 4,
   "metadata": {},
   "outputs": [
    {
     "data": {
      "text/html": [
       "\n",
       "            <style>\n",
       "                .geemap-dark {\n",
       "                    --jp-widgets-color: white;\n",
       "                    --jp-widgets-label-color: white;\n",
       "                    --jp-ui-font-color1: white;\n",
       "                    --jp-layout-color2: #454545;\n",
       "                    background-color: #383838;\n",
       "                }\n",
       "\n",
       "                .geemap-dark .jupyter-button {\n",
       "                    --jp-layout-color3: #383838;\n",
       "                }\n",
       "\n",
       "                .geemap-colab {\n",
       "                    background-color: var(--colab-primary-surface-color, white);\n",
       "                }\n",
       "\n",
       "                .geemap-colab .jupyter-button {\n",
       "                    --jp-layout-color3: var(--colab-primary-surface-color, white);\n",
       "                }\n",
       "            </style>\n",
       "            "
      ],
      "text/plain": [
       "<IPython.core.display.HTML object>"
      ]
     },
     "metadata": {},
     "output_type": "display_data"
    }
   ],
   "source": [
    "#4.2\n",
    "\n",
    "model = models.Sequential([\n",
    "    layers.Input(shape=(46, 128, 128, 7)),\n",
    "    layers.Conv3D(32, (3,3,3), activation='relu', padding='same'),\n",
    "    layers.MaxPooling3D((1,2,2)),\n",
    "    layers.Conv3D(64, (3,3,3), activation='relu', padding='same'),\n",
    "    layers.Conv3D(128,(3,3,3),activation='relu',padding='same'),\n",
    "    layers.MaxPooling3D(pool_size=(1,3,3)),\n",
    "    layers.Flatten(),\n",
    "    layers.Dense(128, activation='relu'),\n",
    "    layers.Dropout(0.3),\n",
    "    layers.Dense(1, activation='linear')\n",
    "])\n"
   ]
  },
  {
   "cell_type": "code",
   "execution_count": 5,
   "metadata": {},
   "outputs": [
    {
     "data": {
      "text/html": [
       "\n",
       "            <style>\n",
       "                .geemap-dark {\n",
       "                    --jp-widgets-color: white;\n",
       "                    --jp-widgets-label-color: white;\n",
       "                    --jp-ui-font-color1: white;\n",
       "                    --jp-layout-color2: #454545;\n",
       "                    background-color: #383838;\n",
       "                }\n",
       "\n",
       "                .geemap-dark .jupyter-button {\n",
       "                    --jp-layout-color3: #383838;\n",
       "                }\n",
       "\n",
       "                .geemap-colab {\n",
       "                    background-color: var(--colab-primary-surface-color, white);\n",
       "                }\n",
       "\n",
       "                .geemap-colab .jupyter-button {\n",
       "                    --jp-layout-color3: var(--colab-primary-surface-color, white);\n",
       "                }\n",
       "            </style>\n",
       "            "
      ],
      "text/plain": [
       "<IPython.core.display.HTML object>"
      ]
     },
     "metadata": {},
     "output_type": "display_data"
    },
    {
     "data": {
      "text/html": [
       "<pre style=\"white-space:pre;overflow-x:auto;line-height:normal;font-family:Menlo,'DejaVu Sans Mono',consolas,'Courier New',monospace\"><span style=\"font-weight: bold\">Model: \"sequential\"</span>\n",
       "</pre>\n"
      ],
      "text/plain": [
       "\u001b[1mModel: \"sequential\"\u001b[0m\n"
      ]
     },
     "metadata": {},
     "output_type": "display_data"
    },
    {
     "data": {
      "text/html": [
       "<pre style=\"white-space:pre;overflow-x:auto;line-height:normal;font-family:Menlo,'DejaVu Sans Mono',consolas,'Courier New',monospace\">┏━━━━━━━━━━━━━━━━━━━━━━━━━━━━━━━━━┳━━━━━━━━━━━━━━━━━━━━━━━━┳━━━━━━━━━━━━━━━┓\n",
       "┃<span style=\"font-weight: bold\"> Layer (type)                    </span>┃<span style=\"font-weight: bold\"> Output Shape           </span>┃<span style=\"font-weight: bold\">       Param # </span>┃\n",
       "┡━━━━━━━━━━━━━━━━━━━━━━━━━━━━━━━━━╇━━━━━━━━━━━━━━━━━━━━━━━━╇━━━━━━━━━━━━━━━┩\n",
       "│ conv3d (<span style=\"color: #0087ff; text-decoration-color: #0087ff\">Conv3D</span>)                 │ (<span style=\"color: #00d7ff; text-decoration-color: #00d7ff\">None</span>, <span style=\"color: #00af00; text-decoration-color: #00af00\">46</span>, <span style=\"color: #00af00; text-decoration-color: #00af00\">128</span>, <span style=\"color: #00af00; text-decoration-color: #00af00\">128</span>,   │         <span style=\"color: #00af00; text-decoration-color: #00af00\">6,080</span> │\n",
       "│                                 │ <span style=\"color: #00af00; text-decoration-color: #00af00\">32</span>)                    │               │\n",
       "├─────────────────────────────────┼────────────────────────┼───────────────┤\n",
       "│ max_pooling3d (<span style=\"color: #0087ff; text-decoration-color: #0087ff\">MaxPooling3D</span>)    │ (<span style=\"color: #00d7ff; text-decoration-color: #00d7ff\">None</span>, <span style=\"color: #00af00; text-decoration-color: #00af00\">46</span>, <span style=\"color: #00af00; text-decoration-color: #00af00\">64</span>, <span style=\"color: #00af00; text-decoration-color: #00af00\">64</span>, <span style=\"color: #00af00; text-decoration-color: #00af00\">32</span>) │             <span style=\"color: #00af00; text-decoration-color: #00af00\">0</span> │\n",
       "├─────────────────────────────────┼────────────────────────┼───────────────┤\n",
       "│ conv3d_1 (<span style=\"color: #0087ff; text-decoration-color: #0087ff\">Conv3D</span>)               │ (<span style=\"color: #00d7ff; text-decoration-color: #00d7ff\">None</span>, <span style=\"color: #00af00; text-decoration-color: #00af00\">46</span>, <span style=\"color: #00af00; text-decoration-color: #00af00\">64</span>, <span style=\"color: #00af00; text-decoration-color: #00af00\">64</span>, <span style=\"color: #00af00; text-decoration-color: #00af00\">64</span>) │        <span style=\"color: #00af00; text-decoration-color: #00af00\">55,360</span> │\n",
       "├─────────────────────────────────┼────────────────────────┼───────────────┤\n",
       "│ conv3d_2 (<span style=\"color: #0087ff; text-decoration-color: #0087ff\">Conv3D</span>)               │ (<span style=\"color: #00d7ff; text-decoration-color: #00d7ff\">None</span>, <span style=\"color: #00af00; text-decoration-color: #00af00\">46</span>, <span style=\"color: #00af00; text-decoration-color: #00af00\">64</span>, <span style=\"color: #00af00; text-decoration-color: #00af00\">64</span>,     │       <span style=\"color: #00af00; text-decoration-color: #00af00\">221,312</span> │\n",
       "│                                 │ <span style=\"color: #00af00; text-decoration-color: #00af00\">128</span>)                   │               │\n",
       "├─────────────────────────────────┼────────────────────────┼───────────────┤\n",
       "│ max_pooling3d_1 (<span style=\"color: #0087ff; text-decoration-color: #0087ff\">MaxPooling3D</span>)  │ (<span style=\"color: #00d7ff; text-decoration-color: #00d7ff\">None</span>, <span style=\"color: #00af00; text-decoration-color: #00af00\">46</span>, <span style=\"color: #00af00; text-decoration-color: #00af00\">21</span>, <span style=\"color: #00af00; text-decoration-color: #00af00\">21</span>,     │             <span style=\"color: #00af00; text-decoration-color: #00af00\">0</span> │\n",
       "│                                 │ <span style=\"color: #00af00; text-decoration-color: #00af00\">128</span>)                   │               │\n",
       "├─────────────────────────────────┼────────────────────────┼───────────────┤\n",
       "│ flatten (<span style=\"color: #0087ff; text-decoration-color: #0087ff\">Flatten</span>)               │ (<span style=\"color: #00d7ff; text-decoration-color: #00d7ff\">None</span>, <span style=\"color: #00af00; text-decoration-color: #00af00\">2596608</span>)        │             <span style=\"color: #00af00; text-decoration-color: #00af00\">0</span> │\n",
       "├─────────────────────────────────┼────────────────────────┼───────────────┤\n",
       "│ dense (<span style=\"color: #0087ff; text-decoration-color: #0087ff\">Dense</span>)                   │ (<span style=\"color: #00d7ff; text-decoration-color: #00d7ff\">None</span>, <span style=\"color: #00af00; text-decoration-color: #00af00\">128</span>)            │   <span style=\"color: #00af00; text-decoration-color: #00af00\">332,365,952</span> │\n",
       "├─────────────────────────────────┼────────────────────────┼───────────────┤\n",
       "│ dropout (<span style=\"color: #0087ff; text-decoration-color: #0087ff\">Dropout</span>)               │ (<span style=\"color: #00d7ff; text-decoration-color: #00d7ff\">None</span>, <span style=\"color: #00af00; text-decoration-color: #00af00\">128</span>)            │             <span style=\"color: #00af00; text-decoration-color: #00af00\">0</span> │\n",
       "├─────────────────────────────────┼────────────────────────┼───────────────┤\n",
       "│ dense_1 (<span style=\"color: #0087ff; text-decoration-color: #0087ff\">Dense</span>)                 │ (<span style=\"color: #00d7ff; text-decoration-color: #00d7ff\">None</span>, <span style=\"color: #00af00; text-decoration-color: #00af00\">1</span>)              │           <span style=\"color: #00af00; text-decoration-color: #00af00\">129</span> │\n",
       "└─────────────────────────────────┴────────────────────────┴───────────────┘\n",
       "</pre>\n"
      ],
      "text/plain": [
       "┏━━━━━━━━━━━━━━━━━━━━━━━━━━━━━━━━━┳━━━━━━━━━━━━━━━━━━━━━━━━┳━━━━━━━━━━━━━━━┓\n",
       "┃\u001b[1m \u001b[0m\u001b[1mLayer (type)                   \u001b[0m\u001b[1m \u001b[0m┃\u001b[1m \u001b[0m\u001b[1mOutput Shape          \u001b[0m\u001b[1m \u001b[0m┃\u001b[1m \u001b[0m\u001b[1m      Param #\u001b[0m\u001b[1m \u001b[0m┃\n",
       "┡━━━━━━━━━━━━━━━━━━━━━━━━━━━━━━━━━╇━━━━━━━━━━━━━━━━━━━━━━━━╇━━━━━━━━━━━━━━━┩\n",
       "│ conv3d (\u001b[38;5;33mConv3D\u001b[0m)                 │ (\u001b[38;5;45mNone\u001b[0m, \u001b[38;5;34m46\u001b[0m, \u001b[38;5;34m128\u001b[0m, \u001b[38;5;34m128\u001b[0m,   │         \u001b[38;5;34m6,080\u001b[0m │\n",
       "│                                 │ \u001b[38;5;34m32\u001b[0m)                    │               │\n",
       "├─────────────────────────────────┼────────────────────────┼───────────────┤\n",
       "│ max_pooling3d (\u001b[38;5;33mMaxPooling3D\u001b[0m)    │ (\u001b[38;5;45mNone\u001b[0m, \u001b[38;5;34m46\u001b[0m, \u001b[38;5;34m64\u001b[0m, \u001b[38;5;34m64\u001b[0m, \u001b[38;5;34m32\u001b[0m) │             \u001b[38;5;34m0\u001b[0m │\n",
       "├─────────────────────────────────┼────────────────────────┼───────────────┤\n",
       "│ conv3d_1 (\u001b[38;5;33mConv3D\u001b[0m)               │ (\u001b[38;5;45mNone\u001b[0m, \u001b[38;5;34m46\u001b[0m, \u001b[38;5;34m64\u001b[0m, \u001b[38;5;34m64\u001b[0m, \u001b[38;5;34m64\u001b[0m) │        \u001b[38;5;34m55,360\u001b[0m │\n",
       "├─────────────────────────────────┼────────────────────────┼───────────────┤\n",
       "│ conv3d_2 (\u001b[38;5;33mConv3D\u001b[0m)               │ (\u001b[38;5;45mNone\u001b[0m, \u001b[38;5;34m46\u001b[0m, \u001b[38;5;34m64\u001b[0m, \u001b[38;5;34m64\u001b[0m,     │       \u001b[38;5;34m221,312\u001b[0m │\n",
       "│                                 │ \u001b[38;5;34m128\u001b[0m)                   │               │\n",
       "├─────────────────────────────────┼────────────────────────┼───────────────┤\n",
       "│ max_pooling3d_1 (\u001b[38;5;33mMaxPooling3D\u001b[0m)  │ (\u001b[38;5;45mNone\u001b[0m, \u001b[38;5;34m46\u001b[0m, \u001b[38;5;34m21\u001b[0m, \u001b[38;5;34m21\u001b[0m,     │             \u001b[38;5;34m0\u001b[0m │\n",
       "│                                 │ \u001b[38;5;34m128\u001b[0m)                   │               │\n",
       "├─────────────────────────────────┼────────────────────────┼───────────────┤\n",
       "│ flatten (\u001b[38;5;33mFlatten\u001b[0m)               │ (\u001b[38;5;45mNone\u001b[0m, \u001b[38;5;34m2596608\u001b[0m)        │             \u001b[38;5;34m0\u001b[0m │\n",
       "├─────────────────────────────────┼────────────────────────┼───────────────┤\n",
       "│ dense (\u001b[38;5;33mDense\u001b[0m)                   │ (\u001b[38;5;45mNone\u001b[0m, \u001b[38;5;34m128\u001b[0m)            │   \u001b[38;5;34m332,365,952\u001b[0m │\n",
       "├─────────────────────────────────┼────────────────────────┼───────────────┤\n",
       "│ dropout (\u001b[38;5;33mDropout\u001b[0m)               │ (\u001b[38;5;45mNone\u001b[0m, \u001b[38;5;34m128\u001b[0m)            │             \u001b[38;5;34m0\u001b[0m │\n",
       "├─────────────────────────────────┼────────────────────────┼───────────────┤\n",
       "│ dense_1 (\u001b[38;5;33mDense\u001b[0m)                 │ (\u001b[38;5;45mNone\u001b[0m, \u001b[38;5;34m1\u001b[0m)              │           \u001b[38;5;34m129\u001b[0m │\n",
       "└─────────────────────────────────┴────────────────────────┴───────────────┘\n"
      ]
     },
     "metadata": {},
     "output_type": "display_data"
    },
    {
     "data": {
      "text/html": [
       "<pre style=\"white-space:pre;overflow-x:auto;line-height:normal;font-family:Menlo,'DejaVu Sans Mono',consolas,'Courier New',monospace\"><span style=\"font-weight: bold\"> Total params: </span><span style=\"color: #00af00; text-decoration-color: #00af00\">332,648,833</span> (1.24 GB)\n",
       "</pre>\n"
      ],
      "text/plain": [
       "\u001b[1m Total params: \u001b[0m\u001b[38;5;34m332,648,833\u001b[0m (1.24 GB)\n"
      ]
     },
     "metadata": {},
     "output_type": "display_data"
    },
    {
     "data": {
      "text/html": [
       "<pre style=\"white-space:pre;overflow-x:auto;line-height:normal;font-family:Menlo,'DejaVu Sans Mono',consolas,'Courier New',monospace\"><span style=\"font-weight: bold\"> Trainable params: </span><span style=\"color: #00af00; text-decoration-color: #00af00\">332,648,833</span> (1.24 GB)\n",
       "</pre>\n"
      ],
      "text/plain": [
       "\u001b[1m Trainable params: \u001b[0m\u001b[38;5;34m332,648,833\u001b[0m (1.24 GB)\n"
      ]
     },
     "metadata": {},
     "output_type": "display_data"
    },
    {
     "data": {
      "text/html": [
       "<pre style=\"white-space:pre;overflow-x:auto;line-height:normal;font-family:Menlo,'DejaVu Sans Mono',consolas,'Courier New',monospace\"><span style=\"font-weight: bold\"> Non-trainable params: </span><span style=\"color: #00af00; text-decoration-color: #00af00\">0</span> (0.00 B)\n",
       "</pre>\n"
      ],
      "text/plain": [
       "\u001b[1m Non-trainable params: \u001b[0m\u001b[38;5;34m0\u001b[0m (0.00 B)\n"
      ]
     },
     "metadata": {},
     "output_type": "display_data"
    }
   ],
   "source": [
    "model.compile(\n",
    "    optimizer=tf.keras.optimizers.Adam(learning_rate=1e-4),\n",
    "    loss='mean_squared_error',\n",
    "    metrics=['mae', 'mse']\n",
    ")\n",
    "\n",
    "model.summary()"
   ]
  },
  {
   "cell_type": "code",
   "execution_count": 6,
   "metadata": {},
   "outputs": [
    {
     "data": {
      "text/html": [
       "\n",
       "            <style>\n",
       "                .geemap-dark {\n",
       "                    --jp-widgets-color: white;\n",
       "                    --jp-widgets-label-color: white;\n",
       "                    --jp-ui-font-color1: white;\n",
       "                    --jp-layout-color2: #454545;\n",
       "                    background-color: #383838;\n",
       "                }\n",
       "\n",
       "                .geemap-dark .jupyter-button {\n",
       "                    --jp-layout-color3: #383838;\n",
       "                }\n",
       "\n",
       "                .geemap-colab {\n",
       "                    background-color: var(--colab-primary-surface-color, white);\n",
       "                }\n",
       "\n",
       "                .geemap-colab .jupyter-button {\n",
       "                    --jp-layout-color3: var(--colab-primary-surface-color, white);\n",
       "                }\n",
       "            </style>\n",
       "            "
      ],
      "text/plain": [
       "<IPython.core.display.HTML object>"
      ]
     },
     "metadata": {},
     "output_type": "display_data"
    }
   ],
   "source": [
    "# 1. EarlyStopping: stop training if val_loss doesn't improve for 3 epochs\n",
    "early_stop = tf.keras.callbacks.EarlyStopping(\n",
    "    monitor='val_mse',\n",
    "    patience=5,\n",
    "    restore_best_weights=True\n",
    ")\n",
    "\n",
    "# 2. ModelCheckpoint: save the best model based on val_accuracy\n",
    "\n",
    "checkpoint = tf.keras.callbacks.ModelCheckpoint(\n",
    "    r'C:\\Users\\porter77\\OneDrive - Brigham Young University\\Huron\\yield_prediction\\models\\std_dev_model.keras',               # save path\n",
    "    monitor='val_mse',        # metric to monitor\n",
    "    save_best_only=True,           # only save when val_accuracy improves\n",
    "    save_weights_only=False,       # save entire model (not just weights)\n",
    "    verbose=1                      # print when model is saved\n",
    ")\n"
   ]
  },
  {
   "cell_type": "code",
   "execution_count": 7,
   "metadata": {},
   "outputs": [
    {
     "data": {
      "text/html": [
       "\n",
       "            <style>\n",
       "                .geemap-dark {\n",
       "                    --jp-widgets-color: white;\n",
       "                    --jp-widgets-label-color: white;\n",
       "                    --jp-ui-font-color1: white;\n",
       "                    --jp-layout-color2: #454545;\n",
       "                    background-color: #383838;\n",
       "                }\n",
       "\n",
       "                .geemap-dark .jupyter-button {\n",
       "                    --jp-layout-color3: #383838;\n",
       "                }\n",
       "\n",
       "                .geemap-colab {\n",
       "                    background-color: var(--colab-primary-surface-color, white);\n",
       "                }\n",
       "\n",
       "                .geemap-colab .jupyter-button {\n",
       "                    --jp-layout-color3: var(--colab-primary-surface-color, white);\n",
       "                }\n",
       "            </style>\n",
       "            "
      ],
      "text/plain": [
       "<IPython.core.display.HTML object>"
      ]
     },
     "metadata": {},
     "output_type": "display_data"
    },
    {
     "name": "stdout",
     "output_type": "stream",
     "text": [
      "Epoch 1/100\n",
      "\u001b[1m20/20\u001b[0m \u001b[32m━━━━━━━━━━━━━━━━━━━━\u001b[0m\u001b[37m\u001b[0m \u001b[1m0s\u001b[0m 31s/step - loss: 1759.9921 - mae: 17.7316 - mse: 1759.9921 \n",
      "Epoch 1: val_mse improved from inf to 5.93304, saving model to C:\\Users\\porter77\\OneDrive - Brigham Young University\\Huron\\yield_prediction\\models\\std_dev_model.keras\n",
      "\u001b[1m20/20\u001b[0m \u001b[32m━━━━━━━━━━━━━━━━━━━━\u001b[0m\u001b[37m\u001b[0m \u001b[1m724s\u001b[0m 35s/step - loss: 1709.5800 - mae: 17.3254 - mse: 1709.5800 - val_loss: 5.9330 - val_mae: 1.9261 - val_mse: 5.9330\n",
      "Epoch 2/100\n",
      "\u001b[1m20/20\u001b[0m \u001b[32m━━━━━━━━━━━━━━━━━━━━\u001b[0m\u001b[37m\u001b[0m \u001b[1m0s\u001b[0m 28s/step - loss: 10.5389 - mae: 2.6262 - mse: 10.5389 \n",
      "Epoch 2: val_mse improved from 5.93304 to 5.24054, saving model to C:\\Users\\porter77\\OneDrive - Brigham Young University\\Huron\\yield_prediction\\models\\std_dev_model.keras\n",
      "\u001b[1m20/20\u001b[0m \u001b[32m━━━━━━━━━━━━━━━━━━━━\u001b[0m\u001b[37m\u001b[0m \u001b[1m637s\u001b[0m 32s/step - loss: 10.4479 - mae: 2.6130 - mse: 10.4479 - val_loss: 5.2405 - val_mae: 1.7216 - val_mse: 5.2405\n",
      "Epoch 3/100\n",
      "\u001b[1m20/20\u001b[0m \u001b[32m━━━━━━━━━━━━━━━━━━━━\u001b[0m\u001b[37m\u001b[0m \u001b[1m0s\u001b[0m 26s/step - loss: 6.8735 - mae: 2.0425 - mse: 6.8735 \n",
      "Epoch 3: val_mse improved from 5.24054 to 4.93512, saving model to C:\\Users\\porter77\\OneDrive - Brigham Young University\\Huron\\yield_prediction\\models\\std_dev_model.keras\n",
      "\u001b[1m20/20\u001b[0m \u001b[32m━━━━━━━━━━━━━━━━━━━━\u001b[0m\u001b[37m\u001b[0m \u001b[1m555s\u001b[0m 28s/step - loss: 6.8596 - mae: 2.0404 - mse: 6.8596 - val_loss: 4.9351 - val_mae: 1.6565 - val_mse: 4.9351\n",
      "Epoch 4/100\n",
      "\u001b[1m20/20\u001b[0m \u001b[32m━━━━━━━━━━━━━━━━━━━━\u001b[0m\u001b[37m\u001b[0m \u001b[1m0s\u001b[0m 18s/step - loss: 6.6372 - mae: 2.0722 - mse: 6.6372 \n",
      "Epoch 4: val_mse improved from 4.93512 to 4.60095, saving model to C:\\Users\\porter77\\OneDrive - Brigham Young University\\Huron\\yield_prediction\\models\\std_dev_model.keras\n",
      "\u001b[1m20/20\u001b[0m \u001b[32m━━━━━━━━━━━━━━━━━━━━\u001b[0m\u001b[37m\u001b[0m \u001b[1m427s\u001b[0m 21s/step - loss: 6.6581 - mae: 2.0751 - mse: 6.6581 - val_loss: 4.6009 - val_mae: 1.5883 - val_mse: 4.6009\n",
      "Epoch 5/100\n",
      "\u001b[1m20/20\u001b[0m \u001b[32m━━━━━━━━━━━━━━━━━━━━\u001b[0m\u001b[37m\u001b[0m \u001b[1m0s\u001b[0m 18s/step - loss: 6.6677 - mae: 2.0650 - mse: 6.6677 \n",
      "Epoch 5: val_mse did not improve from 4.60095\n",
      "\u001b[1m20/20\u001b[0m \u001b[32m━━━━━━━━━━━━━━━━━━━━\u001b[0m\u001b[37m\u001b[0m \u001b[1m409s\u001b[0m 21s/step - loss: 6.6682 - mae: 2.0635 - mse: 6.6682 - val_loss: 4.6314 - val_mae: 1.5834 - val_mse: 4.6314\n",
      "Epoch 6/100\n",
      "\u001b[1m20/20\u001b[0m \u001b[32m━━━━━━━━━━━━━━━━━━━━\u001b[0m\u001b[37m\u001b[0m \u001b[1m0s\u001b[0m 18s/step - loss: 6.2478 - mae: 1.9455 - mse: 6.2478 \n",
      "Epoch 6: val_mse improved from 4.60095 to 4.39451, saving model to C:\\Users\\porter77\\OneDrive - Brigham Young University\\Huron\\yield_prediction\\models\\std_dev_model.keras\n",
      "\u001b[1m20/20\u001b[0m \u001b[32m━━━━━━━━━━━━━━━━━━━━\u001b[0m\u001b[37m\u001b[0m \u001b[1m427s\u001b[0m 21s/step - loss: 6.2561 - mae: 1.9460 - mse: 6.2561 - val_loss: 4.3945 - val_mae: 1.5360 - val_mse: 4.3945\n",
      "Epoch 7/100\n",
      "\u001b[1m20/20\u001b[0m \u001b[32m━━━━━━━━━━━━━━━━━━━━\u001b[0m\u001b[37m\u001b[0m \u001b[1m0s\u001b[0m 15s/step - loss: 5.7649 - mae: 1.9122 - mse: 5.7649 \n",
      "Epoch 7: val_mse improved from 4.39451 to 4.27413, saving model to C:\\Users\\porter77\\OneDrive - Brigham Young University\\Huron\\yield_prediction\\models\\std_dev_model.keras\n",
      "\u001b[1m20/20\u001b[0m \u001b[32m━━━━━━━━━━━━━━━━━━━━\u001b[0m\u001b[37m\u001b[0m \u001b[1m349s\u001b[0m 17s/step - loss: 5.7851 - mae: 1.9145 - mse: 5.7851 - val_loss: 4.2741 - val_mae: 1.5115 - val_mse: 4.2741\n",
      "Epoch 8/100\n",
      "\u001b[1m20/20\u001b[0m \u001b[32m━━━━━━━━━━━━━━━━━━━━\u001b[0m\u001b[37m\u001b[0m \u001b[1m0s\u001b[0m 18s/step - loss: 6.2404 - mae: 1.9070 - mse: 6.2404 \n",
      "Epoch 8: val_mse improved from 4.27413 to 4.20070, saving model to C:\\Users\\porter77\\OneDrive - Brigham Young University\\Huron\\yield_prediction\\models\\std_dev_model.keras\n",
      "\u001b[1m20/20\u001b[0m \u001b[32m━━━━━━━━━━━━━━━━━━━━\u001b[0m\u001b[37m\u001b[0m \u001b[1m405s\u001b[0m 20s/step - loss: 6.2430 - mae: 1.9079 - mse: 6.2430 - val_loss: 4.2007 - val_mae: 1.4950 - val_mse: 4.2007\n",
      "Epoch 9/100\n",
      "\u001b[1m20/20\u001b[0m \u001b[32m━━━━━━━━━━━━━━━━━━━━\u001b[0m\u001b[37m\u001b[0m \u001b[1m0s\u001b[0m 17s/step - loss: 6.6192 - mae: 2.0020 - mse: 6.6192 \n",
      "Epoch 9: val_mse improved from 4.20070 to 4.11432, saving model to C:\\Users\\porter77\\OneDrive - Brigham Young University\\Huron\\yield_prediction\\models\\std_dev_model.keras\n",
      "\u001b[1m20/20\u001b[0m \u001b[32m━━━━━━━━━━━━━━━━━━━━\u001b[0m\u001b[37m\u001b[0m \u001b[1m422s\u001b[0m 21s/step - loss: 6.6141 - mae: 2.0007 - mse: 6.6141 - val_loss: 4.1143 - val_mae: 1.4778 - val_mse: 4.1143\n",
      "Epoch 10/100\n",
      "\u001b[1m20/20\u001b[0m \u001b[32m━━━━━━━━━━━━━━━━━━━━\u001b[0m\u001b[37m\u001b[0m \u001b[1m0s\u001b[0m 17s/step - loss: 5.5254 - mae: 1.8931 - mse: 5.5254 \n",
      "Epoch 10: val_mse improved from 4.11432 to 4.07407, saving model to C:\\Users\\porter77\\OneDrive - Brigham Young University\\Huron\\yield_prediction\\models\\std_dev_model.keras\n",
      "\u001b[1m20/20\u001b[0m \u001b[32m━━━━━━━━━━━━━━━━━━━━\u001b[0m\u001b[37m\u001b[0m \u001b[1m405s\u001b[0m 19s/step - loss: 5.5498 - mae: 1.8959 - mse: 5.5498 - val_loss: 4.0741 - val_mae: 1.4715 - val_mse: 4.0741\n",
      "Epoch 11/100\n",
      "\u001b[1m20/20\u001b[0m \u001b[32m━━━━━━━━━━━━━━━━━━━━\u001b[0m\u001b[37m\u001b[0m \u001b[1m0s\u001b[0m 18s/step - loss: 5.5828 - mae: 1.8180 - mse: 5.5828 \n",
      "Epoch 11: val_mse improved from 4.07407 to 4.04661, saving model to C:\\Users\\porter77\\OneDrive - Brigham Young University\\Huron\\yield_prediction\\models\\std_dev_model.keras\n",
      "\u001b[1m20/20\u001b[0m \u001b[32m━━━━━━━━━━━━━━━━━━━━\u001b[0m\u001b[37m\u001b[0m \u001b[1m429s\u001b[0m 22s/step - loss: 5.5792 - mae: 1.8175 - mse: 5.5792 - val_loss: 4.0466 - val_mae: 1.4680 - val_mse: 4.0466\n",
      "Epoch 12/100\n",
      "\u001b[1m20/20\u001b[0m \u001b[32m━━━━━━━━━━━━━━━━━━━━\u001b[0m\u001b[37m\u001b[0m \u001b[1m0s\u001b[0m 16s/step - loss: 5.5622 - mae: 1.8175 - mse: 5.5622 \n",
      "Epoch 12: val_mse improved from 4.04661 to 3.98918, saving model to C:\\Users\\porter77\\OneDrive - Brigham Young University\\Huron\\yield_prediction\\models\\std_dev_model.keras\n",
      "\u001b[1m20/20\u001b[0m \u001b[32m━━━━━━━━━━━━━━━━━━━━\u001b[0m\u001b[37m\u001b[0m \u001b[1m385s\u001b[0m 19s/step - loss: 5.5664 - mae: 1.8179 - mse: 5.5664 - val_loss: 3.9892 - val_mae: 1.4592 - val_mse: 3.9892\n",
      "Epoch 13/100\n",
      "\u001b[1m20/20\u001b[0m \u001b[32m━━━━━━━━━━━━━━━━━━━━\u001b[0m\u001b[37m\u001b[0m \u001b[1m0s\u001b[0m 17s/step - loss: 6.2395 - mae: 1.9145 - mse: 6.2395 \n",
      "Epoch 13: val_mse did not improve from 3.98918\n",
      "\u001b[1m20/20\u001b[0m \u001b[32m━━━━━━━━━━━━━━━━━━━━\u001b[0m\u001b[37m\u001b[0m \u001b[1m365s\u001b[0m 18s/step - loss: 6.2360 - mae: 1.9149 - mse: 6.2360 - val_loss: 4.1633 - val_mae: 1.4969 - val_mse: 4.1633\n",
      "Epoch 14/100\n",
      "\u001b[1m20/20\u001b[0m \u001b[32m━━━━━━━━━━━━━━━━━━━━\u001b[0m\u001b[37m\u001b[0m \u001b[1m0s\u001b[0m 17s/step - loss: 5.0539 - mae: 1.7331 - mse: 5.0539 \n",
      "Epoch 14: val_mse improved from 3.98918 to 3.97587, saving model to C:\\Users\\porter77\\OneDrive - Brigham Young University\\Huron\\yield_prediction\\models\\std_dev_model.keras\n",
      "\u001b[1m20/20\u001b[0m \u001b[32m━━━━━━━━━━━━━━━━━━━━\u001b[0m\u001b[37m\u001b[0m \u001b[1m404s\u001b[0m 20s/step - loss: 5.0842 - mae: 1.7379 - mse: 5.0842 - val_loss: 3.9759 - val_mae: 1.4605 - val_mse: 3.9759\n",
      "Epoch 15/100\n",
      "\u001b[1m20/20\u001b[0m \u001b[32m━━━━━━━━━━━━━━━━━━━━\u001b[0m\u001b[37m\u001b[0m \u001b[1m0s\u001b[0m 17s/step - loss: 5.5469 - mae: 1.7635 - mse: 5.5469 \n",
      "Epoch 15: val_mse did not improve from 3.97587\n",
      "\u001b[1m20/20\u001b[0m \u001b[32m━━━━━━━━━━━━━━━━━━━━\u001b[0m\u001b[37m\u001b[0m \u001b[1m370s\u001b[0m 18s/step - loss: 5.5719 - mae: 1.7679 - mse: 5.5719 - val_loss: 4.0561 - val_mae: 1.4778 - val_mse: 4.0561\n",
      "Epoch 16/100\n",
      "\u001b[1m20/20\u001b[0m \u001b[32m━━━━━━━━━━━━━━━━━━━━\u001b[0m\u001b[37m\u001b[0m \u001b[1m0s\u001b[0m 18s/step - loss: 5.5544 - mae: 1.7917 - mse: 5.5544 \n",
      "Epoch 16: val_mse improved from 3.97587 to 3.79200, saving model to C:\\Users\\porter77\\OneDrive - Brigham Young University\\Huron\\yield_prediction\\models\\std_dev_model.keras\n",
      "\u001b[1m20/20\u001b[0m \u001b[32m━━━━━━━━━━━━━━━━━━━━\u001b[0m\u001b[37m\u001b[0m \u001b[1m411s\u001b[0m 21s/step - loss: 5.5652 - mae: 1.7936 - mse: 5.5652 - val_loss: 3.7920 - val_mae: 1.4273 - val_mse: 3.7920\n",
      "Epoch 17/100\n",
      "\u001b[1m20/20\u001b[0m \u001b[32m━━━━━━━━━━━━━━━━━━━━\u001b[0m\u001b[37m\u001b[0m \u001b[1m0s\u001b[0m 16s/step - loss: 5.5750 - mae: 1.7665 - mse: 5.5750 \n",
      "Epoch 17: val_mse did not improve from 3.79200\n",
      "\u001b[1m20/20\u001b[0m \u001b[32m━━━━━━━━━━━━━━━━━━━━\u001b[0m\u001b[37m\u001b[0m \u001b[1m366s\u001b[0m 18s/step - loss: 5.5784 - mae: 1.7681 - mse: 5.5784 - val_loss: 3.8809 - val_mae: 1.4413 - val_mse: 3.8809\n",
      "Epoch 18/100\n",
      "\u001b[1m20/20\u001b[0m \u001b[32m━━━━━━━━━━━━━━━━━━━━\u001b[0m\u001b[37m\u001b[0m \u001b[1m0s\u001b[0m 18s/step - loss: 4.9145 - mae: 1.7089 - mse: 4.9145 \n",
      "Epoch 18: val_mse did not improve from 3.79200\n",
      "\u001b[1m20/20\u001b[0m \u001b[32m━━━━━━━━━━━━━━━━━━━━\u001b[0m\u001b[37m\u001b[0m \u001b[1m392s\u001b[0m 19s/step - loss: 4.9214 - mae: 1.7103 - mse: 4.9214 - val_loss: 3.9197 - val_mae: 1.4495 - val_mse: 3.9197\n",
      "Epoch 19/100\n",
      "\u001b[1m20/20\u001b[0m \u001b[32m━━━━━━━━━━━━━━━━━━━━\u001b[0m\u001b[37m\u001b[0m \u001b[1m0s\u001b[0m 18s/step - loss: 4.3591 - mae: 1.5997 - mse: 4.3591 \n",
      "Epoch 19: val_mse did not improve from 3.79200\n",
      "\u001b[1m20/20\u001b[0m \u001b[32m━━━━━━━━━━━━━━━━━━━━\u001b[0m\u001b[37m\u001b[0m \u001b[1m387s\u001b[0m 19s/step - loss: 4.3791 - mae: 1.6029 - mse: 4.3791 - val_loss: 3.8285 - val_mae: 1.4306 - val_mse: 3.8285\n",
      "Epoch 20/100\n",
      "\u001b[1m20/20\u001b[0m \u001b[32m━━━━━━━━━━━━━━━━━━━━\u001b[0m\u001b[37m\u001b[0m \u001b[1m0s\u001b[0m 18s/step - loss: 4.8788 - mae: 1.6572 - mse: 4.8788 \n",
      "Epoch 20: val_mse improved from 3.79200 to 3.68281, saving model to C:\\Users\\porter77\\OneDrive - Brigham Young University\\Huron\\yield_prediction\\models\\std_dev_model.keras\n",
      "\u001b[1m20/20\u001b[0m \u001b[32m━━━━━━━━━━━━━━━━━━━━\u001b[0m\u001b[37m\u001b[0m \u001b[1m408s\u001b[0m 20s/step - loss: 4.8880 - mae: 1.6593 - mse: 4.8880 - val_loss: 3.6828 - val_mae: 1.4084 - val_mse: 3.6828\n",
      "Epoch 21/100\n",
      "\u001b[1m20/20\u001b[0m \u001b[32m━━━━━━━━━━━━━━━━━━━━\u001b[0m\u001b[37m\u001b[0m \u001b[1m0s\u001b[0m 16s/step - loss: 4.3762 - mae: 1.6136 - mse: 4.3762 \n",
      "Epoch 21: val_mse improved from 3.68281 to 3.67892, saving model to C:\\Users\\porter77\\OneDrive - Brigham Young University\\Huron\\yield_prediction\\models\\std_dev_model.keras\n",
      "\u001b[1m20/20\u001b[0m \u001b[32m━━━━━━━━━━━━━━━━━━━━\u001b[0m\u001b[37m\u001b[0m \u001b[1m377s\u001b[0m 19s/step - loss: 4.3970 - mae: 1.6169 - mse: 4.3970 - val_loss: 3.6789 - val_mae: 1.4079 - val_mse: 3.6789\n",
      "Epoch 22/100\n",
      "\u001b[1m20/20\u001b[0m \u001b[32m━━━━━━━━━━━━━━━━━━━━\u001b[0m\u001b[37m\u001b[0m \u001b[1m0s\u001b[0m 19s/step - loss: 5.0580 - mae: 1.7357 - mse: 5.0580 \n",
      "Epoch 22: val_mse did not improve from 3.67892\n",
      "\u001b[1m20/20\u001b[0m \u001b[32m━━━━━━━━━━━━━━━━━━━━\u001b[0m\u001b[37m\u001b[0m \u001b[1m429s\u001b[0m 21s/step - loss: 5.0754 - mae: 1.7370 - mse: 5.0754 - val_loss: 3.8568 - val_mae: 1.4394 - val_mse: 3.8568\n",
      "Epoch 23/100\n",
      "\u001b[1m20/20\u001b[0m \u001b[32m━━━━━━━━━━━━━━━━━━━━\u001b[0m\u001b[37m\u001b[0m \u001b[1m0s\u001b[0m 18s/step - loss: 4.9487 - mae: 1.6895 - mse: 4.9487 \n",
      "Epoch 23: val_mse did not improve from 3.67892\n",
      "\u001b[1m20/20\u001b[0m \u001b[32m━━━━━━━━━━━━━━━━━━━━\u001b[0m\u001b[37m\u001b[0m \u001b[1m392s\u001b[0m 19s/step - loss: 4.9647 - mae: 1.6915 - mse: 4.9647 - val_loss: 3.7313 - val_mae: 1.4176 - val_mse: 3.7313\n",
      "Epoch 24/100\n",
      "\u001b[1m20/20\u001b[0m \u001b[32m━━━━━━━━━━━━━━━━━━━━\u001b[0m\u001b[37m\u001b[0m \u001b[1m0s\u001b[0m 17s/step - loss: 4.8282 - mae: 1.6764 - mse: 4.8282 \n",
      "Epoch 24: val_mse did not improve from 3.67892\n",
      "\u001b[1m20/20\u001b[0m \u001b[32m━━━━━━━━━━━━━━━━━━━━\u001b[0m\u001b[37m\u001b[0m \u001b[1m371s\u001b[0m 19s/step - loss: 4.8362 - mae: 1.6778 - mse: 4.8362 - val_loss: 3.7394 - val_mae: 1.4160 - val_mse: 3.7394\n",
      "Epoch 25/100\n",
      "\u001b[1m20/20\u001b[0m \u001b[32m━━━━━━━━━━━━━━━━━━━━\u001b[0m\u001b[37m\u001b[0m \u001b[1m0s\u001b[0m 17s/step - loss: 4.1752 - mae: 1.4790 - mse: 4.1752 \n",
      "Epoch 25: val_mse did not improve from 3.67892\n",
      "\u001b[1m20/20\u001b[0m \u001b[32m━━━━━━━━━━━━━━━━━━━━\u001b[0m\u001b[37m\u001b[0m \u001b[1m399s\u001b[0m 20s/step - loss: 4.2047 - mae: 1.4836 - mse: 4.2047 - val_loss: 3.8207 - val_mae: 1.4283 - val_mse: 3.8207\n",
      "Epoch 26/100\n",
      "\u001b[1m20/20\u001b[0m \u001b[32m━━━━━━━━━━━━━━━━━━━━\u001b[0m\u001b[37m\u001b[0m \u001b[1m0s\u001b[0m 18s/step - loss: 4.3857 - mae: 1.5669 - mse: 4.3857 \n",
      "Epoch 26: val_mse did not improve from 3.67892\n",
      "\u001b[1m20/20\u001b[0m \u001b[32m━━━━━━━━━━━━━━━━━━━━\u001b[0m\u001b[37m\u001b[0m \u001b[1m390s\u001b[0m 19s/step - loss: 4.4073 - mae: 1.5711 - mse: 4.4073 - val_loss: 3.7211 - val_mae: 1.4109 - val_mse: 3.7211\n"
     ]
    }
   ],
   "source": [
    "\n",
    "# Define batch size\n",
    "BATCH_SIZE = 32\n",
    "\n",
    "# Create datasets\n",
    "train_ds = tf.data.Dataset.from_tensor_slices((X_train, y_train)).batch(BATCH_SIZE).prefetch(1)\n",
    "val_ds = tf.data.Dataset.from_tensor_slices((X_val, y_val)).batch(BATCH_SIZE).prefetch(1)\n",
    "\n",
    "# Fit the model\n",
    "history = model.fit(\n",
    "    train_ds,\n",
    "    validation_data=val_ds,\n",
    "    epochs=100,\n",
    "    callbacks=[early_stop, checkpoint]\n",
    ")\n"
   ]
  },
  {
   "cell_type": "code",
   "execution_count": 8,
   "metadata": {},
   "outputs": [
    {
     "data": {
      "text/html": [
       "\n",
       "            <style>\n",
       "                .geemap-dark {\n",
       "                    --jp-widgets-color: white;\n",
       "                    --jp-widgets-label-color: white;\n",
       "                    --jp-ui-font-color1: white;\n",
       "                    --jp-layout-color2: #454545;\n",
       "                    background-color: #383838;\n",
       "                }\n",
       "\n",
       "                .geemap-dark .jupyter-button {\n",
       "                    --jp-layout-color3: #383838;\n",
       "                }\n",
       "\n",
       "                .geemap-colab {\n",
       "                    background-color: var(--colab-primary-surface-color, white);\n",
       "                }\n",
       "\n",
       "                .geemap-colab .jupyter-button {\n",
       "                    --jp-layout-color3: var(--colab-primary-surface-color, white);\n",
       "                }\n",
       "            </style>\n",
       "            "
      ],
      "text/plain": [
       "<IPython.core.display.HTML object>"
      ]
     },
     "metadata": {},
     "output_type": "display_data"
    },
    {
     "data": {
      "image/png": "[encoded data removed]",
      "text/plain": [
       "<Figure size 640x480 with 1 Axes>"
      ]
     },
     "metadata": {},
     "output_type": "display_data"
    }
   ],
   "source": [
    "import matplotlib.pyplot as plt\n",
    "\n",
    "plt.plot(history.history['mse'], label='Train MSE')\n",
    "plt.plot(history.history['val_mse'], label='Val MSE')\n",
    "plt.legend()\n",
    "plt.show()"
   ]
  },
  {
   "cell_type": "code",
   "execution_count": 9,
   "metadata": {},
   "outputs": [
    {
     "data": {
      "text/html": [
       "\n",
       "            <style>\n",
       "                .geemap-dark {\n",
       "                    --jp-widgets-color: white;\n",
       "                    --jp-widgets-label-color: white;\n",
       "                    --jp-ui-font-color1: white;\n",
       "                    --jp-layout-color2: #454545;\n",
       "                    background-color: #383838;\n",
       "                }\n",
       "\n",
       "                .geemap-dark .jupyter-button {\n",
       "                    --jp-layout-color3: #383838;\n",
       "                }\n",
       "\n",
       "                .geemap-colab {\n",
       "                    background-color: var(--colab-primary-surface-color, white);\n",
       "                }\n",
       "\n",
       "                .geemap-colab .jupyter-button {\n",
       "                    --jp-layout-color3: var(--colab-primary-surface-color, white);\n",
       "                }\n",
       "            </style>\n",
       "            "
      ],
      "text/plain": [
       "<IPython.core.display.HTML object>"
      ]
     },
     "metadata": {},
     "output_type": "display_data"
    },
    {
     "name": "stdout",
     "output_type": "stream",
     "text": [
      "\u001b[1m25/25\u001b[0m \u001b[32m━━━━━━━━━━━━━━━━━━━━\u001b[0m\u001b[37m\u001b[0m \u001b[1m126s\u001b[0m 4s/step\n"
     ]
    }
   ],
   "source": [
    "##load in X\n",
    "X=np.load(r'C:\\Users\\porter77\\OneDrive - Brigham Young University\\Huron\\yield_prediction\\Training Data\\X_std_dev.npy',mmap_mode='r')\n",
    "\n",
    "y_pred=model.predict(X)"
   ]
  },
  {
   "cell_type": "code",
   "execution_count": 20,
   "metadata": {},
   "outputs": [
    {
     "data": {
      "text/html": [
       "\n",
       "            <style>\n",
       "                .geemap-dark {\n",
       "                    --jp-widgets-color: white;\n",
       "                    --jp-widgets-label-color: white;\n",
       "                    --jp-ui-font-color1: white;\n",
       "                    --jp-layout-color2: #454545;\n",
       "                    background-color: #383838;\n",
       "                }\n",
       "\n",
       "                .geemap-dark .jupyter-button {\n",
       "                    --jp-layout-color3: #383838;\n",
       "                }\n",
       "\n",
       "                .geemap-colab {\n",
       "                    background-color: var(--colab-primary-surface-color, white);\n",
       "                }\n",
       "\n",
       "                .geemap-colab .jupyter-button {\n",
       "                    --jp-layout-color3: var(--colab-primary-surface-color, white);\n",
       "                }\n",
       "            </style>\n",
       "            "
      ],
      "text/plain": [
       "<IPython.core.display.HTML object>"
      ]
     },
     "metadata": {},
     "output_type": "display_data"
    },
    {
     "data": {
      "text/plain": [
       "array([[2.6428463 ],\n",
       "       [0.8107702 ],\n",
       "       [2.346419  ],\n",
       "       [3.209464  ],\n",
       "       [1.4799706 ],\n",
       "       [2.6217163 ],\n",
       "       [1.9917476 ],\n",
       "       [1.9560059 ],\n",
       "       [2.9426248 ],\n",
       "       [3.250811  ],\n",
       "       [4.9885187 ],\n",
       "       [1.7404113 ],\n",
       "       [3.5350008 ],\n",
       "       [1.9965378 ],\n",
       "       [1.7499366 ],\n",
       "       [2.1877244 ],\n",
       "       [2.860892  ],\n",
       "       [1.5754372 ],\n",
       "       [1.8911768 ],\n",
       "       [2.032266  ],\n",
       "       [2.295392  ],\n",
       "       [3.2439725 ],\n",
       "       [1.7639289 ],\n",
       "       [2.5082786 ],\n",
       "       [1.7532052 ],\n",
       "       [1.9242433 ],\n",
       "       [1.1839583 ],\n",
       "       [2.5100255 ],\n",
       "       [2.7091033 ],\n",
       "       [1.4521958 ],\n",
       "       [2.6358895 ],\n",
       "       [2.4200895 ],\n",
       "       [2.2690105 ],\n",
       "       [2.8898382 ],\n",
       "       [0.9785214 ],\n",
       "       [2.4096584 ],\n",
       "       [1.0166681 ],\n",
       "       [2.8886387 ],\n",
       "       [3.2329366 ],\n",
       "       [2.9416566 ],\n",
       "       [0.7625136 ],\n",
       "       [2.6888478 ],\n",
       "       [1.0150434 ],\n",
       "       [2.206719  ],\n",
       "       [2.009361  ],\n",
       "       [2.220791  ],\n",
       "       [2.3076072 ],\n",
       "       [1.7473724 ],\n",
       "       [1.4376305 ],\n",
       "       [1.9846783 ],\n",
       "       [2.0263057 ],\n",
       "       [2.4841497 ],\n",
       "       [1.7155656 ],\n",
       "       [2.2823093 ],\n",
       "       [0.867297  ],\n",
       "       [2.5867908 ],\n",
       "       [1.6745001 ],\n",
       "       [2.1812534 ],\n",
       "       [2.5657141 ],\n",
       "       [1.267963  ],\n",
       "       [0.21175641],\n",
       "       [1.7167678 ],\n",
       "       [1.2084131 ],\n",
       "       [2.4132652 ],\n",
       "       [3.2962976 ],\n",
       "       [2.772046  ],\n",
       "       [2.4331355 ],\n",
       "       [3.0460374 ],\n",
       "       [1.7381785 ],\n",
       "       [1.6875832 ],\n",
       "       [2.9889634 ],\n",
       "       [2.5165596 ],\n",
       "       [1.7078512 ],\n",
       "       [3.158159  ],\n",
       "       [2.668336  ],\n",
       "       [2.8111663 ],\n",
       "       [2.7425957 ],\n",
       "       [1.9148304 ],\n",
       "       [2.6723123 ],\n",
       "       [1.262311  ],\n",
       "       [2.1995296 ],\n",
       "       [1.9395576 ],\n",
       "       [1.397829  ],\n",
       "       [1.814076  ],\n",
       "       [2.2441578 ],\n",
       "       [2.1454964 ],\n",
       "       [2.3272116 ],\n",
       "       [1.8056047 ],\n",
       "       [1.7021255 ],\n",
       "       [1.3055917 ],\n",
       "       [1.6724957 ],\n",
       "       [1.4857655 ],\n",
       "       [2.6461232 ],\n",
       "       [2.1523077 ],\n",
       "       [3.174859  ],\n",
       "       [2.8690186 ],\n",
       "       [1.9291015 ],\n",
       "       [2.0402918 ],\n",
       "       [2.1384327 ],\n",
       "       [3.500942  ],\n",
       "       [1.2375557 ],\n",
       "       [1.3998564 ],\n",
       "       [2.8147578 ],\n",
       "       [2.6686633 ],\n",
       "       [3.0849667 ],\n",
       "       [2.4068408 ],\n",
       "       [0.41290027],\n",
       "       [2.8266127 ],\n",
       "       [2.7011576 ],\n",
       "       [2.9557567 ],\n",
       "       [3.020789  ],\n",
       "       [2.6490014 ],\n",
       "       [2.5927231 ],\n",
       "       [2.0779562 ],\n",
       "       [1.7782671 ],\n",
       "       [0.8148944 ],\n",
       "       [2.9004576 ],\n",
       "       [2.4232519 ],\n",
       "       [2.5205593 ],\n",
       "       [1.3968291 ],\n",
       "       [2.682627  ],\n",
       "       [2.3850915 ],\n",
       "       [1.6390767 ],\n",
       "       [1.3909764 ],\n",
       "       [2.4219313 ],\n",
       "       [2.5580168 ],\n",
       "       [2.4453504 ],\n",
       "       [0.00951429],\n",
       "       [1.9790365 ],\n",
       "       [3.1216967 ],\n",
       "       [1.6376646 ],\n",
       "       [2.5978594 ],\n",
       "       [2.1462867 ],\n",
       "       [1.332157  ],\n",
       "       [1.8374977 ],\n",
       "       [3.0821855 ],\n",
       "       [2.1558156 ],\n",
       "       [2.515198  ],\n",
       "       [0.23751706],\n",
       "       [2.2761524 ],\n",
       "       [1.8591037 ],\n",
       "       [3.0942166 ],\n",
       "       [1.8255423 ],\n",
       "       [2.549004  ],\n",
       "       [2.2992473 ],\n",
       "       [2.972872  ],\n",
       "       [2.000381  ],\n",
       "       [2.5468333 ],\n",
       "       [3.2818036 ],\n",
       "       [2.865013  ],\n",
       "       [1.2020762 ],\n",
       "       [2.4313    ],\n",
       "       [1.5850859 ],\n",
       "       [1.4050565 ],\n",
       "       [2.054493  ],\n",
       "       [2.1308007 ],\n",
       "       [1.292657  ],\n",
       "       [2.8528736 ],\n",
       "       [2.8483846 ],\n",
       "       [2.7405093 ],\n",
       "       [3.245479  ],\n",
       "       [2.342568  ],\n",
       "       [1.0785955 ],\n",
       "       [3.314261  ],\n",
       "       [2.2736363 ],\n",
       "       [1.7345408 ],\n",
       "       [2.4698617 ],\n",
       "       [2.54478   ],\n",
       "       [2.3080413 ],\n",
       "       [2.5542932 ],\n",
       "       [1.3580266 ],\n",
       "       [1.4665132 ],\n",
       "       [2.7287967 ],\n",
       "       [2.383027  ],\n",
       "       [2.26607   ],\n",
       "       [2.4695356 ],\n",
       "       [3.5213907 ],\n",
       "       [2.740674  ],\n",
       "       [2.4911675 ],\n",
       "       [3.281545  ],\n",
       "       [3.3259509 ],\n",
       "       [1.1128778 ],\n",
       "       [0.9874557 ],\n",
       "       [0.00951429],\n",
       "       [2.7075799 ],\n",
       "       [2.9887452 ],\n",
       "       [0.7227867 ],\n",
       "       [1.8669106 ],\n",
       "       [3.2562919 ],\n",
       "       [1.8803934 ],\n",
       "       [1.9026356 ],\n",
       "       [2.0847216 ],\n",
       "       [1.6211005 ],\n",
       "       [2.8825607 ],\n",
       "       [1.6205374 ],\n",
       "       [2.6895123 ],\n",
       "       [2.4907498 ],\n",
       "       [1.4856346 ],\n",
       "       [2.7169313 ],\n",
       "       [0.5945229 ],\n",
       "       [2.162242  ],\n",
       "       [2.703923  ],\n",
       "       [1.8958588 ],\n",
       "       [2.9196591 ],\n",
       "       [2.1774158 ],\n",
       "       [2.2773626 ],\n",
       "       [2.6665208 ],\n",
       "       [3.2779543 ],\n",
       "       [7.0608406 ],\n",
       "       [1.7692248 ],\n",
       "       [3.436761  ],\n",
       "       [1.5829151 ],\n",
       "       [2.0606532 ],\n",
       "       [2.3249588 ],\n",
       "       [2.8052077 ],\n",
       "       [1.7574518 ],\n",
       "       [1.7840335 ],\n",
       "       [1.9623826 ],\n",
       "       [2.2727482 ],\n",
       "       [2.4247394 ],\n",
       "       [2.390384  ],\n",
       "       [2.6802282 ],\n",
       "       [1.8047587 ],\n",
       "       [1.6745507 ],\n",
       "       [0.9624979 ],\n",
       "       [2.3010383 ],\n",
       "       [2.4882255 ],\n",
       "       [1.5270048 ],\n",
       "       [1.9317629 ],\n",
       "       [2.377529  ],\n",
       "       [2.339763  ],\n",
       "       [2.6664162 ],\n",
       "       [0.96436113],\n",
       "       [2.3090322 ],\n",
       "       [1.0863452 ],\n",
       "       [2.732137  ],\n",
       "       [3.0707316 ],\n",
       "       [2.1098719 ],\n",
       "       [0.80848527],\n",
       "       [2.4775157 ],\n",
       "       [0.9737158 ],\n",
       "       [3.6548347 ],\n",
       "       [2.2205417 ],\n",
       "       [2.381757  ],\n",
       "       [2.0928636 ],\n",
       "       [1.6916679 ],\n",
       "       [1.4183908 ],\n",
       "       [2.160668  ],\n",
       "       [2.0616364 ],\n",
       "       [2.7520502 ],\n",
       "       [1.6054672 ],\n",
       "       [2.2573655 ],\n",
       "       [1.0127126 ],\n",
       "       [2.565383  ],\n",
       "       [2.6366787 ],\n",
       "       [2.1893368 ],\n",
       "       [2.5861127 ],\n",
       "       [1.5449166 ],\n",
       "       [0.2104898 ],\n",
       "       [1.8526242 ],\n",
       "       [1.5469741 ],\n",
       "       [2.3510096 ],\n",
       "       [2.2611306 ],\n",
       "       [2.5931187 ],\n",
       "       [2.6063657 ],\n",
       "       [3.7105284 ],\n",
       "       [1.9411453 ],\n",
       "       [2.6244078 ],\n",
       "       [3.0062754 ],\n",
       "       [2.8149393 ],\n",
       "       [1.6697665 ],\n",
       "       [2.646965  ],\n",
       "       [2.1405137 ],\n",
       "       [3.0320957 ],\n",
       "       [2.5451643 ],\n",
       "       [2.3345697 ],\n",
       "       [2.84164   ],\n",
       "       [1.074945  ],\n",
       "       [2.1564574 ],\n",
       "       [2.678906  ],\n",
       "       [1.5252893 ],\n",
       "       [1.7097036 ],\n",
       "       [2.1259675 ],\n",
       "       [2.1244972 ],\n",
       "       [2.6866176 ],\n",
       "       [1.8526471 ],\n",
       "       [1.3644415 ],\n",
       "       [1.4143058 ],\n",
       "       [1.6465417 ],\n",
       "       [1.3462744 ],\n",
       "       [2.6897666 ],\n",
       "       [2.2693875 ],\n",
       "       [3.2541227 ],\n",
       "       [1.9245555 ],\n",
       "       [2.1914017 ],\n",
       "       [2.457926  ],\n",
       "       [2.4396486 ],\n",
       "       [3.9535773 ],\n",
       "       [1.3140538 ],\n",
       "       [1.4988565 ],\n",
       "       [2.896669  ],\n",
       "       [2.5547826 ],\n",
       "       [3.1182637 ],\n",
       "       [2.2607844 ],\n",
       "       [0.45004576],\n",
       "       [2.5189984 ],\n",
       "       [2.3420117 ],\n",
       "       [2.679816  ],\n",
       "       [2.7156377 ],\n",
       "       [2.7005076 ],\n",
       "       [2.6969163 ],\n",
       "       [2.1008544 ],\n",
       "       [2.1086214 ],\n",
       "       [0.80704254],\n",
       "       [2.5026667 ],\n",
       "       [2.115     ],\n",
       "       [2.3613598 ],\n",
       "       [1.2047882 ],\n",
       "       [2.6752598 ],\n",
       "       [2.286036  ],\n",
       "       [1.9720236 ],\n",
       "       [1.5578254 ],\n",
       "       [2.193354  ],\n",
       "       [2.0436566 ],\n",
       "       [2.3172653 ],\n",
       "       [0.00951429],\n",
       "       [1.9613273 ],\n",
       "       [2.9440038 ],\n",
       "       [2.083627  ],\n",
       "       [2.231703  ],\n",
       "       [2.2298958 ],\n",
       "       [1.2874942 ],\n",
       "       [1.8287376 ],\n",
       "       [2.394281  ],\n",
       "       [2.0843406 ],\n",
       "       [2.4466202 ],\n",
       "       [0.3025817 ],\n",
       "       [1.9377432 ],\n",
       "       [1.410579  ],\n",
       "       [2.847295  ],\n",
       "       [1.7567588 ],\n",
       "       [2.9181676 ],\n",
       "       [2.2986586 ],\n",
       "       [2.8234143 ],\n",
       "       [2.3243504 ],\n",
       "       [2.7045832 ],\n",
       "       [3.0167708 ],\n",
       "       [2.8503697 ],\n",
       "       [1.4835234 ],\n",
       "       [1.8457198 ],\n",
       "       [1.5981108 ],\n",
       "       [1.4923036 ],\n",
       "       [1.6390913 ],\n",
       "       [1.8106288 ],\n",
       "       [1.546579  ],\n",
       "       [2.8172712 ],\n",
       "       [2.870103  ],\n",
       "       [2.471256  ],\n",
       "       [3.3687181 ],\n",
       "       [2.8165128 ],\n",
       "       [0.8858702 ],\n",
       "       [3.4545505 ],\n",
       "       [2.1958225 ],\n",
       "       [1.6488554 ],\n",
       "       [2.589302  ],\n",
       "       [2.5914493 ],\n",
       "       [3.3369493 ],\n",
       "       [2.5312274 ],\n",
       "       [2.66697   ],\n",
       "       [1.3972974 ],\n",
       "       [2.75792   ],\n",
       "       [2.2452455 ],\n",
       "       [3.4696124 ],\n",
       "       [2.7939072 ],\n",
       "       [3.0048027 ],\n",
       "       [2.2670705 ],\n",
       "       [2.343316  ],\n",
       "       [2.7874393 ],\n",
       "       [2.7767363 ],\n",
       "       [1.4916039 ],\n",
       "       [1.6942108 ],\n",
       "       [0.00951429],\n",
       "       [2.860812  ],\n",
       "       [2.7975967 ],\n",
       "       [1.4285284 ],\n",
       "       [1.8128387 ],\n",
       "       [3.3744934 ],\n",
       "       [2.2418876 ],\n",
       "       [2.1773388 ],\n",
       "       [2.3833754 ],\n",
       "       [1.1605037 ],\n",
       "       [2.884144  ],\n",
       "       [1.6622058 ],\n",
       "       [2.7124753 ],\n",
       "       [2.3710976 ],\n",
       "       [1.4369767 ],\n",
       "       [2.5947657 ],\n",
       "       [0.75569206],\n",
       "       [2.53638   ],\n",
       "       [2.6320844 ],\n",
       "       [1.6824094 ],\n",
       "       [2.6673033 ],\n",
       "       [1.9933443 ],\n",
       "       [1.8160411 ],\n",
       "       [2.372737  ],\n",
       "       [3.3743594 ],\n",
       "       [3.7426343 ],\n",
       "       [1.5304277 ],\n",
       "       [3.224828  ],\n",
       "       [1.5967901 ],\n",
       "       [1.844934  ],\n",
       "       [2.2668705 ],\n",
       "       [2.6416268 ],\n",
       "       [1.8187013 ],\n",
       "       [2.0661438 ],\n",
       "       [1.8731809 ],\n",
       "       [2.1844277 ],\n",
       "       [2.4367125 ],\n",
       "       [2.010728  ],\n",
       "       [2.7747264 ],\n",
       "       [1.5576218 ],\n",
       "       [1.6169351 ],\n",
       "       [0.7349683 ],\n",
       "       [3.004451  ],\n",
       "       [2.44103   ],\n",
       "       [0.6829442 ],\n",
       "       [1.8421036 ],\n",
       "       [2.4157696 ],\n",
       "       [2.127595  ],\n",
       "       [2.9477508 ],\n",
       "       [1.1356064 ],\n",
       "       [2.1111217 ],\n",
       "       [1.014492  ],\n",
       "       [2.3099513 ],\n",
       "       [3.2068534 ],\n",
       "       [3.1748228 ],\n",
       "       [0.64981437],\n",
       "       [2.4886925 ],\n",
       "       [0.9464822 ],\n",
       "       [3.1499794 ],\n",
       "       [2.0675323 ],\n",
       "       [2.0919533 ],\n",
       "       [1.9848298 ],\n",
       "       [1.5905714 ],\n",
       "       [1.5608227 ],\n",
       "       [2.094444  ],\n",
       "       [1.9431424 ],\n",
       "       [2.6951246 ],\n",
       "       [1.486495  ],\n",
       "       [2.015202  ],\n",
       "       [0.73775214],\n",
       "       [2.4794927 ],\n",
       "       [2.0481277 ],\n",
       "       [1.8800446 ],\n",
       "       [2.3146427 ],\n",
       "       [1.257327  ],\n",
       "       [0.23066077],\n",
       "       [1.430068  ],\n",
       "       [1.5957853 ],\n",
       "       [2.1731932 ],\n",
       "       [1.9372627 ],\n",
       "       [2.3636942 ],\n",
       "       [2.310522  ],\n",
       "       [3.0467    ],\n",
       "       [1.8618909 ],\n",
       "       [1.9657472 ],\n",
       "       [2.8608315 ],\n",
       "       [2.483875  ],\n",
       "       [1.5698333 ],\n",
       "       [2.1388128 ],\n",
       "       [2.947764  ],\n",
       "       [2.7106102 ],\n",
       "       [2.458847  ],\n",
       "       [2.414849  ],\n",
       "       [3.2504346 ],\n",
       "       [0.66402346],\n",
       "       [1.8789753 ],\n",
       "       [2.0233135 ],\n",
       "       [1.3211262 ],\n",
       "       [1.6036948 ],\n",
       "       [1.977135  ],\n",
       "       [1.9197121 ],\n",
       "       [1.8836743 ],\n",
       "       [2.3492002 ],\n",
       "       [1.3740027 ],\n",
       "       [0.8264306 ],\n",
       "       [1.5146544 ],\n",
       "       [1.3973387 ],\n",
       "       [2.6320794 ],\n",
       "       [1.7676107 ],\n",
       "       [2.6393728 ],\n",
       "       [2.8741965 ],\n",
       "       [1.7839047 ],\n",
       "       [2.6569042 ],\n",
       "       [2.1976726 ],\n",
       "       [2.636873  ],\n",
       "       [0.73930305],\n",
       "       [1.9419522 ],\n",
       "       [2.6819234 ],\n",
       "       [2.9072926 ],\n",
       "       [2.9502108 ],\n",
       "       [2.1843638 ],\n",
       "       [0.4247253 ],\n",
       "       [2.6443248 ],\n",
       "       [2.3344517 ],\n",
       "       [2.8966727 ],\n",
       "       [3.3139536 ],\n",
       "       [2.725571  ],\n",
       "       [2.521249  ],\n",
       "       [1.6599879 ],\n",
       "       [1.8174845 ],\n",
       "       [0.73964274],\n",
       "       [2.3171332 ],\n",
       "       [2.2538002 ],\n",
       "       [2.5202374 ],\n",
       "       [1.5173807 ],\n",
       "       [2.4074826 ],\n",
       "       [2.3337028 ],\n",
       "       [1.8710678 ],\n",
       "       [1.3631914 ],\n",
       "       [2.4216142 ],\n",
       "       [2.2202048 ],\n",
       "       [2.4569151 ],\n",
       "       [0.00951429],\n",
       "       [1.9775853 ],\n",
       "       [2.757919  ],\n",
       "       [1.4085972 ],\n",
       "       [2.59685   ],\n",
       "       [1.7806743 ],\n",
       "       [1.4379181 ],\n",
       "       [1.7322607 ],\n",
       "       [3.0186505 ],\n",
       "       [1.8478279 ],\n",
       "       [2.5085695 ],\n",
       "       [0.36183593],\n",
       "       [2.0326037 ],\n",
       "       [1.6797917 ],\n",
       "       [2.4640975 ],\n",
       "       [1.8674902 ],\n",
       "       [2.7109776 ],\n",
       "       [2.2807615 ],\n",
       "       [2.8256478 ],\n",
       "       [2.477343  ],\n",
       "       [3.0980966 ],\n",
       "       [2.6958258 ],\n",
       "       [1.0702035 ],\n",
       "       [2.2454534 ],\n",
       "       [1.7546976 ],\n",
       "       [1.2654488 ],\n",
       "       [1.6380128 ],\n",
       "       [1.8474169 ],\n",
       "       [1.3062329 ],\n",
       "       [2.9500802 ],\n",
       "       [2.925792  ],\n",
       "       [2.3103545 ],\n",
       "       [3.1418483 ],\n",
       "       [1.8946388 ],\n",
       "       [0.9335961 ],\n",
       "       [2.623299  ],\n",
       "       [2.347388  ],\n",
       "       [1.3894979 ],\n",
       "       [2.2578585 ],\n",
       "       [2.68827   ],\n",
       "       [2.8549204 ],\n",
       "       [1.6959536 ],\n",
       "       [1.3661562 ],\n",
       "       [2.6292245 ],\n",
       "       [2.1333547 ],\n",
       "       [3.103445  ],\n",
       "       [3.1276233 ],\n",
       "       [3.803592  ],\n",
       "       [2.332158  ],\n",
       "       [2.5499349 ],\n",
       "       [2.9431021 ],\n",
       "       [2.4567757 ],\n",
       "       [1.3934991 ],\n",
       "       [1.3606324 ],\n",
       "       [0.00951429],\n",
       "       [2.4466567 ],\n",
       "       [2.9400544 ],\n",
       "       [0.6109827 ],\n",
       "       [1.651533  ],\n",
       "       [3.467564  ],\n",
       "       [1.7319745 ],\n",
       "       [2.0271373 ],\n",
       "       [2.169755  ],\n",
       "       [1.470134  ],\n",
       "       [2.9168038 ],\n",
       "       [1.4376446 ],\n",
       "       [2.469936  ],\n",
       "       [2.1376185 ],\n",
       "       [1.4305193 ],\n",
       "       [2.8694768 ],\n",
       "       [0.7450831 ],\n",
       "       [2.2451997 ],\n",
       "       [2.6120563 ],\n",
       "       [2.4083576 ],\n",
       "       [2.8072603 ],\n",
       "       [1.9913219 ],\n",
       "       [1.8067758 ],\n",
       "       [2.3661351 ],\n",
       "       [3.3045542 ],\n",
       "       [6.160872  ],\n",
       "       [1.7221758 ],\n",
       "       [3.4210207 ],\n",
       "       [1.0969713 ],\n",
       "       [1.7962056 ],\n",
       "       [2.3858075 ],\n",
       "       [2.492946  ],\n",
       "       [1.7867801 ],\n",
       "       [2.3712037 ],\n",
       "       [2.0507913 ],\n",
       "       [2.343316  ],\n",
       "       [2.7700133 ],\n",
       "       [2.8583853 ],\n",
       "       [2.6800115 ],\n",
       "       [1.662597  ],\n",
       "       [1.6290435 ],\n",
       "       [1.057899  ],\n",
       "       [2.3284674 ],\n",
       "       [2.6420608 ],\n",
       "       [1.5549582 ],\n",
       "       [2.0821238 ],\n",
       "       [2.1675556 ],\n",
       "       [1.9060013 ],\n",
       "       [3.0417385 ],\n",
       "       [0.93361175],\n",
       "       [2.0405455 ],\n",
       "       [0.9723717 ],\n",
       "       [2.8698218 ],\n",
       "       [2.68098   ],\n",
       "       [2.1317751 ],\n",
       "       [0.70095664],\n",
       "       [2.313621  ],\n",
       "       [0.8793235 ],\n",
       "       [3.268119  ],\n",
       "       [2.2366455 ],\n",
       "       [2.2627482 ],\n",
       "       [2.0835624 ],\n",
       "       [1.5898275 ],\n",
       "       [1.3626165 ],\n",
       "       [1.9077575 ],\n",
       "       [2.087059  ],\n",
       "       [2.6349063 ],\n",
       "       [1.9029844 ],\n",
       "       [2.086388  ],\n",
       "       [0.93152475],\n",
       "       [2.2758973 ],\n",
       "       [2.3806047 ],\n",
       "       [2.1997297 ],\n",
       "       [2.5283494 ],\n",
       "       [1.6285784 ],\n",
       "       [0.23616146],\n",
       "       [1.6123743 ],\n",
       "       [1.3981143 ],\n",
       "       [1.8721502 ],\n",
       "       [2.5730267 ],\n",
       "       [2.8683653 ],\n",
       "       [2.3664029 ],\n",
       "       [2.3449166 ],\n",
       "       [1.8456904 ],\n",
       "       [2.425573  ],\n",
       "       [2.7576306 ],\n",
       "       [2.4399092 ],\n",
       "       [1.6396822 ],\n",
       "       [2.6793516 ],\n",
       "       [2.132702  ],\n",
       "       [3.1945844 ],\n",
       "       [2.670238  ],\n",
       "       [2.3299642 ],\n",
       "       [2.8187964 ],\n",
       "       [1.2522817 ],\n",
       "       [2.083257  ],\n",
       "       [2.7210655 ],\n",
       "       [1.4586582 ],\n",
       "       [1.66331   ],\n",
       "       [1.8499904 ],\n",
       "       [2.0492733 ],\n",
       "       [2.264968  ],\n",
       "       [2.3999534 ],\n",
       "       [1.7899599 ],\n",
       "       [1.9828061 ],\n",
       "       [1.6016108 ],\n",
       "       [1.4672531 ],\n",
       "       [2.7857249 ],\n",
       "       [1.980675  ],\n",
       "       [3.0380776 ],\n",
       "       [2.746938  ],\n",
       "       [2.1275868 ],\n",
       "       [2.8289278 ],\n",
       "       [2.549774  ],\n",
       "       [3.2476377 ],\n",
       "       [1.3642514 ],\n",
       "       [1.6198667 ],\n",
       "       [2.9289496 ],\n",
       "       [2.9683025 ],\n",
       "       [3.129705  ],\n",
       "       [2.2536411 ],\n",
       "       [0.4323024 ],\n",
       "       [2.3062325 ],\n",
       "       [2.1562843 ],\n",
       "       [2.5187266 ],\n",
       "       [2.5619347 ],\n",
       "       [3.2145138 ],\n",
       "       [2.5959253 ],\n",
       "       [2.429738  ],\n",
       "       [1.9558377 ],\n",
       "       [0.6576807 ],\n",
       "       [3.278574  ],\n",
       "       [2.4094408 ],\n",
       "       [2.5260854 ],\n",
       "       [1.6757766 ],\n",
       "       [2.8549364 ],\n",
       "       [2.2680357 ],\n",
       "       [1.7068365 ],\n",
       "       [1.516187  ],\n",
       "       [2.5260928 ],\n",
       "       [2.4593115 ],\n",
       "       [2.33745   ],\n",
       "       [0.00951429],\n",
       "       [2.0580797 ],\n",
       "       [2.8230598 ],\n",
       "       [2.8471425 ],\n",
       "       [2.6361456 ],\n",
       "       [2.2730646 ],\n",
       "       [1.0805857 ],\n",
       "       [1.9884249 ],\n",
       "       [2.7189384 ],\n",
       "       [2.176911  ],\n",
       "       [2.6656804 ],\n",
       "       [0.3244207 ],\n",
       "       [2.0267138 ],\n",
       "       [2.075105  ],\n",
       "       [3.023321  ],\n",
       "       [1.6644177 ],\n",
       "       [2.54469   ],\n",
       "       [2.1831913 ],\n",
       "       [2.6439512 ],\n",
       "       [2.0142295 ],\n",
       "       [2.7104719 ],\n",
       "       [2.9085748 ],\n",
       "       [2.7233646 ],\n",
       "       [1.2198607 ],\n",
       "       [1.8322393 ],\n",
       "       [1.9705662 ],\n",
       "       [1.5090601 ],\n",
       "       [1.5467236 ],\n",
       "       [2.1996691 ],\n",
       "       [1.7717108 ],\n",
       "       [2.1857529 ],\n",
       "       [2.8187103 ],\n",
       "       [2.2912307 ],\n",
       "       [2.618882  ],\n",
       "       [1.7673295 ],\n",
       "       [1.2186239 ],\n",
       "       [2.5903337 ],\n",
       "       [2.1175933 ],\n",
       "       [1.7595049 ],\n",
       "       [2.2484481 ],\n",
       "       [2.21882   ],\n",
       "       [2.1122246 ],\n",
       "       [2.591061  ],\n",
       "       [2.8832977 ],\n",
       "       [1.277885  ],\n",
       "       [2.855724  ],\n",
       "       [2.1434455 ],\n",
       "       [2.9735782 ],\n",
       "       [2.5266292 ],\n",
       "       [2.8829875 ],\n",
       "       [2.392758  ],\n",
       "       [2.6237817 ],\n",
       "       [2.859723  ],\n",
       "       [2.4407077 ],\n",
       "       [0.9780867 ],\n",
       "       [1.6324056 ],\n",
       "       [0.00951429],\n",
       "       [3.5205102 ],\n",
       "       [2.9224217 ],\n",
       "       [0.8394968 ],\n",
       "       [1.8216983 ],\n",
       "       [3.3036084 ],\n",
       "       [2.052934  ],\n",
       "       [2.0777311 ],\n",
       "       [2.6889024 ],\n",
       "       [1.3259484 ],\n",
       "       [3.316089  ],\n",
       "       [1.6896998 ],\n",
       "       [2.6789346 ],\n",
       "       [2.2759442 ],\n",
       "       [1.3548987 ]], dtype=float32)"
      ]
     },
     "execution_count": 20,
     "metadata": {},
     "output_type": "execute_result"
    }
   ],
   "source": [
    "y_pred"
   ]
  },
  {
   "cell_type": "code",
   "execution_count": 18,
   "metadata": {},
   "outputs": [
    {
     "data": {
      "text/html": [
       "\n",
       "            <style>\n",
       "                .geemap-dark {\n",
       "                    --jp-widgets-color: white;\n",
       "                    --jp-widgets-label-color: white;\n",
       "                    --jp-ui-font-color1: white;\n",
       "                    --jp-layout-color2: #454545;\n",
       "                    background-color: #383838;\n",
       "                }\n",
       "\n",
       "                .geemap-dark .jupyter-button {\n",
       "                    --jp-layout-color3: #383838;\n",
       "                }\n",
       "\n",
       "                .geemap-colab {\n",
       "                    background-color: var(--colab-primary-surface-color, white);\n",
       "                }\n",
       "\n",
       "                .geemap-colab .jupyter-button {\n",
       "                    --jp-layout-color3: var(--colab-primary-surface-color, white);\n",
       "                }\n",
       "            </style>\n",
       "            "
      ],
      "text/plain": [
       "<IPython.core.display.HTML object>"
      ]
     },
     "metadata": {},
     "output_type": "display_data"
    },
    {
     "name": "stdout",
     "output_type": "stream",
     "text": [
      "R²:   -0.1477\n",
      "MAE:  1.2916\n",
      "RMSE: 1.7731\n"
     ]
    }
   ],
   "source": [
    "from sklearn.metrics import mean_squared_error, mean_absolute_error, r2_score\n",
    "import numpy as np\n",
    "\n",
    "y_true=y\n",
    "\n",
    "# y_true = actual values\n",
    "# y_pred = your model's predictions\n",
    "\n",
    "# R²\n",
    "r2 = r2_score(y_true, y_pred)\n",
    "\n",
    "# MAE\n",
    "mae = mean_absolute_error(y_true, y_pred)\n",
    "\n",
    "# RMSE\n",
    "rmse = np.sqrt(mean_squared_error(y_true, y_pred))\n",
    "\n",
    "# Print results\n",
    "print(f\"R²:   {r2:.4f}\")\n",
    "print(f\"MAE:  {mae:.4f}\")\n",
    "print(f\"RMSE: {rmse:.4f}\")\n"
   ]
  },
  {
   "cell_type": "code",
   "execution_count": 22,
   "metadata": {},
   "outputs": [
    {
     "data": {
      "text/html": [
       "\n",
       "            <style>\n",
       "                .geemap-dark {\n",
       "                    --jp-widgets-color: white;\n",
       "                    --jp-widgets-label-color: white;\n",
       "                    --jp-ui-font-color1: white;\n",
       "                    --jp-layout-color2: #454545;\n",
       "                    background-color: #383838;\n",
       "                }\n",
       "\n",
       "                .geemap-dark .jupyter-button {\n",
       "                    --jp-layout-color3: #383838;\n",
       "                }\n",
       "\n",
       "                .geemap-colab {\n",
       "                    background-color: var(--colab-primary-surface-color, white);\n",
       "                }\n",
       "\n",
       "                .geemap-colab .jupyter-button {\n",
       "                    --jp-layout-color3: var(--colab-primary-surface-color, white);\n",
       "                }\n",
       "            </style>\n",
       "            "
      ],
      "text/plain": [
       "<IPython.core.display.HTML object>"
      ]
     },
     "metadata": {},
     "output_type": "display_data"
    },
    {
     "data": {
      "image/png": "[encoded data removed]",
      "text/plain": [
       "<Figure size 600x600 with 1 Axes>"
      ]
     },
     "metadata": {},
     "output_type": "display_data"
    }
   ],
   "source": [
    "import matplotlib.pyplot as plt\n",
    "import numpy as np\n",
    "\n",
    "\n",
    "x1=y_true\n",
    "y1=y_pred\n",
    "\n",
    "\n",
    "\n",
    "plt.figure(figsize=(6, 6))\n",
    "plt.scatter(x1, y1, color='red', s=10, alpha=0.7)\n",
    "\n",
    "# Plot y = x line\n",
    "min_val = min(x1.min(), y1.min())\n",
    "max_val = max(x1.max(), y1.max())\n",
    "plt.plot([min_val, max_val], [min_val, max_val], 'k--', linewidth=1, label='y = x')\n",
    "\n",
    "plt.xlabel('True Yield')\n",
    "plt.ylabel('Predicted Yield')\n",
    "plt.title('Predicted vs True  ~  R²: -0.147' )\n",
    "plt.grid(True)\n",
    "plt.axis('equal')  # ensure square aspect ratio for fair visual comparison\n",
    "plt.tight_layout()\n",
    "plt.show()\n"
   ]
  }
 ],
 "metadata": {
  "kernelspec": {
   "display_name": "default_dev",
   "language": "python",
   "name": "python3"
  },
  "language_info": {
   "codemirror_mode": {
    "name": "ipython",
    "version": 3
   },
   "file_extension": ".py",
   "mimetype": "text/x-python",
   "name": "python",
   "nbconvert_exporter": "python",
   "pygments_lexer": "ipython3",
   "version": "3.11.11"
  }
 },
 "nbformat": 4,
 "nbformat_minor": 2
}
